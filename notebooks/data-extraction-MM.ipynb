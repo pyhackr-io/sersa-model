{
 "cells": [
  {
   "cell_type": "code",
   "execution_count": 11,
   "id": "290af742",
   "metadata": {},
   "outputs": [],
   "source": [
    "import librosa\n",
    "import soundfile\n",
    "import os, glob, pickle\n",
    "import numpy as np"
   ]
  },
  {
   "cell_type": "code",
   "execution_count": 25,
   "id": "700dfe8b",
   "metadata": {},
   "outputs": [],
   "source": [
    "#DataFlair - Extract features (mfcc, chroma, mel) from a sound file\n",
    "def extract_feature(file_name, mfcc, chroma, mel):\n",
    "    with soundfile.SoundFile(file_name) as sound_file:\n",
    "        X = sound_file.read(dtype=\"float32\")\n",
    "        sample_rate=sound_file.samplerate\n",
    "        if chroma:\n",
    "            stft=np.abs(librosa.stft(X))\n",
    "        result=np.array([])\n",
    "        if mfcc:\n",
    "            mfccs=np.mean(librosa.feature.mfcc(y=X, sr=sample_rate, n_mfcc=40).T, axis=0)\n",
    "            result=np.hstack((result, mfccs))\n",
    "        if chroma:\n",
    "            chroma=np.mean(librosa.feature.chroma_stft(S=stft, sr=sample_rate).T,axis=0)\n",
    "            result=np.hstack((result, chroma))\n",
    "        if mel:\n",
    "            mel=np.mean(librosa.feature.melspectrogram(X, sr=sample_rate).T,axis=0)\n",
    "            result=np.hstack((result, mel))\n",
    "    return result"
   ]
  },
  {
   "cell_type": "code",
   "execution_count": 5,
   "id": "c60c9d3b",
   "metadata": {},
   "outputs": [
    {
     "name": "stdout",
     "output_type": "stream",
     "text": [
      "/home/iases/code/pankaj-lewagon/ser/notebooks\r\n"
     ]
    }
   ],
   "source": [
    "!pwd"
   ]
  },
  {
   "cell_type": "code",
   "execution_count": 38,
   "id": "e226afb6",
   "metadata": {},
   "outputs": [
    {
     "data": {
      "text/plain": [
       "array([-6.83346802e+02,  4.88892593e+01, -1.68344450e+00,  1.91830025e+01,\n",
       "        1.96959043e+00, -7.99272358e-01, -4.79502773e+00, -1.23425665e+01,\n",
       "       -5.44743872e+00,  2.11286807e+00, -4.21495914e+00,  1.38785517e+00,\n",
       "       -5.12799263e+00,  2.01476741e+00, -4.01003027e+00, -2.78699923e+00,\n",
       "       -2.45019031e+00,  2.90786058e-01, -5.53608131e+00, -1.82486665e+00,\n",
       "       -2.49778628e+00, -5.44946194e+00,  3.34946632e-01, -4.97791004e+00,\n",
       "       -1.91664660e+00, -3.40251923e-01, -1.90425861e+00, -5.89618497e-02,\n",
       "       -3.87117290e+00, -1.81754279e+00, -3.48097730e+00, -2.37625694e+00,\n",
       "       -9.95904684e-01, -1.86546052e+00, -4.27006626e+00, -2.39640570e+00,\n",
       "       -4.60663700e+00, -1.18474185e+00, -2.14025235e+00, -2.95848393e+00,\n",
       "        6.60874784e-01,  7.05912471e-01,  7.03555584e-01,  6.72466695e-01,\n",
       "        6.93958759e-01,  7.28634834e-01,  7.16797113e-01,  7.58790731e-01,\n",
       "        7.85981476e-01,  7.86870778e-01,  7.73195446e-01,  7.21628845e-01,\n",
       "        8.24575011e-07,  3.01391756e-05,  1.17738242e-03,  1.06946183e-02,\n",
       "        3.47985253e-02,  5.60427606e-02,  1.15679456e-02,  2.85241427e-03,\n",
       "        1.29800523e-02,  3.22018452e-02,  3.91835161e-02,  4.14619632e-02,\n",
       "        1.05314003e-02,  5.31766005e-03,  6.28291210e-03,  1.12156933e-02,\n",
       "        2.92846821e-02,  5.07780723e-02,  4.31989208e-02,  1.63016636e-02,\n",
       "        1.08331954e-02,  9.36373789e-03,  1.81084163e-02,  2.78596468e-02,\n",
       "        1.42960772e-02,  1.78016827e-03,  2.01954017e-03,  6.83786906e-03,\n",
       "        2.30400525e-02,  1.37367360e-02,  1.71870715e-03,  3.18879116e-04,\n",
       "        3.16945428e-04,  5.03860298e-04,  5.09772741e-04,  1.86181496e-04,\n",
       "        1.72335058e-04,  2.05569973e-04,  5.57368621e-04,  5.59186796e-04,\n",
       "        7.53942586e-04,  1.04040478e-03,  5.05275792e-04,  2.14379630e-04,\n",
       "        3.26718698e-04,  1.09710207e-03,  4.07066476e-03,  6.43770769e-03,\n",
       "        2.35775881e-03,  1.72915671e-03,  2.25491589e-03,  1.26662967e-03,\n",
       "        8.62772751e-04,  5.82263863e-04,  3.07000242e-04,  1.35819428e-03,\n",
       "        1.00142939e-03,  4.75780311e-04,  7.87445053e-04,  5.96052269e-04,\n",
       "        1.08340220e-03,  1.34216237e-03,  2.86110182e-04,  3.48654488e-04,\n",
       "        5.90068172e-04,  4.44808829e-04,  7.74098153e-05,  2.46913056e-04,\n",
       "        5.94151497e-04,  1.08744207e-04,  4.71547573e-05,  1.13671820e-04,\n",
       "        1.39007447e-04,  7.45937214e-05,  1.17141317e-04,  7.05606290e-05,\n",
       "        2.04741387e-04,  2.76139210e-04,  1.70001207e-04,  5.04882017e-04,\n",
       "        4.74720990e-04,  3.92348069e-04,  1.87114536e-04,  8.94547920e-05,\n",
       "        1.04657011e-04,  6.28793714e-05,  6.69042201e-05,  8.79081708e-05,\n",
       "        1.17388125e-04,  1.62757686e-04,  1.90644671e-04,  2.52142810e-04,\n",
       "        1.96960144e-04,  3.15997604e-04,  3.82671569e-04,  3.31060903e-04,\n",
       "        1.31941750e-04,  5.79985608e-05,  1.85867229e-05,  1.25301185e-05,\n",
       "        1.74729357e-05,  3.37843485e-05,  7.92052597e-05,  6.39242717e-05,\n",
       "        4.94287851e-05,  2.76284463e-05,  3.48515059e-05,  5.18237721e-05,\n",
       "        6.44699830e-05,  2.58652362e-05,  2.15139589e-05,  2.31146078e-05,\n",
       "        2.29186571e-05,  2.32283310e-05,  3.35497680e-05,  3.25779911e-05,\n",
       "        2.49555487e-05,  1.56002279e-05,  1.55907601e-05,  6.98206804e-06,\n",
       "        4.80846211e-06,  5.26819304e-06,  3.32290347e-06,  3.71277042e-06,\n",
       "        5.16508771e-06,  3.93220625e-06,  1.69330883e-06,  1.01920887e-06])"
      ]
     },
     "execution_count": 38,
     "metadata": {},
     "output_type": "execute_result"
    }
   ],
   "source": [
    "file_name = '../raw_data/ravdess_data/Actor_01/03-01-01-01-01-02-01.wav'\n",
    "\n",
    "extract_feature(file_name, True, True, True)"
   ]
  },
  {
   "cell_type": "code",
   "execution_count": 27,
   "id": "a4b1c917",
   "metadata": {},
   "outputs": [],
   "source": [
    "#DataFlair - Emotions in the RAVDESS dataset\n",
    "emotions={\n",
    "  '01':'neutral',\n",
    "  '02':'calm',\n",
    "  '03':'happy',\n",
    "  '04':'sad',\n",
    "  '05':'angry',\n",
    "  '06':'fearful',\n",
    "  '07':'disgust',\n",
    "  '08':'surprised'\n",
    "}\n",
    "#DataFlair - Emotions to observe\n",
    "observed_emotions=['calm', 'happy', 'fearful', 'disgust']"
   ]
  },
  {
   "cell_type": "code",
   "execution_count": 28,
   "id": "6918bed5",
   "metadata": {},
   "outputs": [],
   "source": [
    "#DataFlair - Load the data and extract features for each sound file\n",
    "def load_data(test_size=0.2):\n",
    "    x,y=[],[]\n",
    "    for file in glob.glob(\"../raw_data/ravdess_data/Actor_*/*.wav\"):\n",
    "        file_name=os.path.basename(file)\n",
    "        emotion=emotions[file_name.split(\"-\")[2]]\n",
    "#         if emotion not in observed_emotions:\n",
    "#             continue\n",
    "        feature=extract_feature(file, mfcc=True, chroma=True, mel=True)\n",
    "        x.append(feature)\n",
    "        y.append(emotion)\n",
    "    return x,y  #train_test_split(np.array(x), y, test_size=test_size, random_state=9)"
   ]
  },
  {
   "cell_type": "code",
   "execution_count": 29,
   "id": "224901ba",
   "metadata": {},
   "outputs": [],
   "source": [
    "x, y = load_data()"
   ]
  },
  {
   "cell_type": "code",
   "execution_count": 30,
   "id": "45ced6e2",
   "metadata": {},
   "outputs": [
    {
     "data": {
      "text/plain": [
       "1440"
      ]
     },
     "execution_count": 30,
     "metadata": {},
     "output_type": "execute_result"
    }
   ],
   "source": [
    "len(y)"
   ]
  },
  {
   "cell_type": "code",
   "execution_count": 43,
   "id": "b8c0fbf6",
   "metadata": {},
   "outputs": [
    {
     "data": {
      "text/plain": [
       "(1440, 180)"
      ]
     },
     "execution_count": 43,
     "metadata": {},
     "output_type": "execute_result"
    }
   ],
   "source": [
    "np.array(x).shape"
   ]
  }
 ],
 "metadata": {
  "kernelspec": {
   "display_name": "Python 3 (ipykernel)",
   "language": "python",
   "name": "python3"
  },
  "language_info": {
   "codemirror_mode": {
    "name": "ipython",
    "version": 3
   },
   "file_extension": ".py",
   "mimetype": "text/x-python",
   "name": "python",
   "nbconvert_exporter": "python",
   "pygments_lexer": "ipython3",
   "version": "3.8.6"
  },
  "toc": {
   "base_numbering": 1,
   "nav_menu": {},
   "number_sections": true,
   "sideBar": true,
   "skip_h1_title": false,
   "title_cell": "Table of Contents",
   "title_sidebar": "Contents",
   "toc_cell": false,
   "toc_position": {},
   "toc_section_display": true,
   "toc_window_display": false
  }
 },
 "nbformat": 4,
 "nbformat_minor": 5
}
