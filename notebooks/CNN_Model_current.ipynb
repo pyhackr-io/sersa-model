{
 "cells": [
  {
   "cell_type": "markdown",
   "metadata": {},
   "source": [
    "# Emotion Detection Algorithm"
   ]
  },
  {
   "cell_type": "code",
   "execution_count": null,
   "metadata": {},
   "outputs": [],
   "source": [
    "# IMPORT NECESSARY LIBRARIES\n",
    "import librosa\n",
    "%matplotlib inline\n",
    "import matplotlib.pyplot as plt\n",
    "import librosa.display\n",
    "from IPython.display import Audio\n",
    "import numpy as np\n",
    "import tensorflow as tf\n",
    "from matplotlib.pyplot import specgram\n",
    "import pandas as pd\n",
    "from sklearn.metrics import confusion_matrix\n",
    "import IPython.display as ipd  # To play sound in the notebook\n",
    "import os # interface with underlying OS that python is running on\n",
    "import sys\n",
    "import warnings\n",
    "# ignore warnings \n",
    "if not sys.warnoptions:\n",
    "    warnings.simplefilter(\"ignore\")\n",
    "warnings.filterwarnings(\"ignore\", category=DeprecationWarning)\n",
    "from sklearn.model_selection import train_test_split\n",
    "from sklearn.preprocessing import LabelEncoder\n",
    "import tensorflow.keras\n",
    "from tensorflow.keras.models import Sequential\n",
    "from tensorflow.keras.layers import Conv1D, MaxPooling1D, AveragePooling1D\n",
    "from tensorflow.keras.layers import Input, Flatten, Dropout, Activation, BatchNormalization, Dense\n",
    "from sklearn.model_selection import GridSearchCV\n",
    "from tensorflow.keras.wrappers.scikit_learn import KerasClassifier\n",
    "from tensorflow.keras.optimizers import SGD\n",
    "from tensorflow.keras.regularizers import l2\n",
    "import seaborn as sns\n",
    "from tensorflow.keras.callbacks import EarlyStopping, ModelCheckpoint\n",
    "from tensorflow.keras.utils import to_categorical\n",
    "from sklearn.metrics import classification_report\n",
    "from tensorflow.keras import callbacks\n",
    "\n",
    "import tensorflow as tf\n",
    "from tensorflow import keras\n",
    "from tensorflow.keras import layers\n",
    "from tensorflow.keras.models import Sequential, load_model\n",
    "from tensorflow.keras.backend import expand_dims\n",
    "from sklearn import preprocessing"
   ]
  },
  {
   "cell_type": "code",
   "execution_count": 2,
   "metadata": {},
   "outputs": [],
   "source": [
    "basedir='/Users/pankajpatel/code/pankaj-lewagon/ser/raw_data/ravdess_data/'"
   ]
  },
  {
   "cell_type": "markdown",
   "metadata": {},
   "source": [
    "# Data Preprocessing"
   ]
  },
  {
   "cell_type": "markdown",
   "metadata": {},
   "source": [
    "## Labeling Audio Files"
   ]
  },
  {
   "cell_type": "code",
   "execution_count": 3,
   "metadata": {
    "scrolled": true
   },
   "outputs": [
    {
     "data": {
      "text/plain": [
       "['Actor_01', 'Actor_02', 'Actor_03', 'Actor_04', 'Actor_05']"
      ]
     },
     "execution_count": 3,
     "metadata": {},
     "output_type": "execute_result"
    }
   ],
   "source": [
    "# CREATE DIRECTORY OF AUDIO FILES \n",
    "audio=basedir\n",
    "actor_folders = os.listdir(audio) #list files in audio directory\n",
    "actor_folders.sort() \n",
    "actor_folders[0:5]"
   ]
  },
  {
   "cell_type": "code",
   "execution_count": 4,
   "metadata": {},
   "outputs": [],
   "source": [
    "def create_load_radvess(exclude_emotions=[]):\n",
    "# CREATE FUNCTION TO EXTRACT EMOTION NUMBER, ACTOR AND GENDER LABEL\n",
    "    \n",
    "    #emotion_type={1:'neutral', 2:'calm', 3:'happy', 4:'sad', 5:'angry', 6:'fear', 7:'disgust', 8:'surprise'}\n",
    "    emotion = []\n",
    "    gender = []\n",
    "    actor = []\n",
    "    file_path = []\n",
    "    for i in actor_folders:\n",
    "        filename = os.listdir(audio + i) #iterate over Actor folders\n",
    "        for f in filename: # go through files in Actor folder\n",
    "            part = f.split('.')[0].split('-')\n",
    "            emotion_type=int(part[2])\n",
    "            if emotion_type not in exclude_emotions :   #  Drop \"surprise\" emotion\n",
    "                emotion.append(int(part[2]))\n",
    "                actor.append(int(part[6]))\n",
    "                bg = int(part[6])\n",
    "                if bg%2 == 0:\n",
    "                    bg = \"female\"\n",
    "                else:\n",
    "                    bg = \"male\"\n",
    "                gender.append(bg)\n",
    "                file_path.append(audio + i + '/' + f)\n",
    "     # PUT EXTRACTED LABELS WITH FILEPATH INTO DATAFRAME\n",
    "    audio_df = pd.DataFrame(emotion)\n",
    "    audio_df = audio_df.replace({1:'neutral', 2:'calm', 3:'happy', 4:'sad', 5:'angry', 6:'fear', 7:'disgust', 8:'surprise'})\n",
    "    audio_df = pd.concat([pd.DataFrame(gender),audio_df,pd.DataFrame(actor)],axis=1)\n",
    "    audio_df.columns = ['gender','emotion','actor']\n",
    "    audio_df = pd.concat([audio_df,pd.DataFrame(file_path, columns = ['path'])],axis=1)               \n",
    "    return audio_df"
   ]
  },
  {
   "cell_type": "markdown",
   "metadata": {},
   "source": [
    "## Feature Extraction"
   ]
  },
  {
   "cell_type": "markdown",
   "metadata": {},
   "source": [
    "### Getting two image from Mel Spec as we are gong to be using Conv 2d in the model later on. "
   ]
  },
  {
   "cell_type": "code",
   "execution_count": 5,
   "metadata": {},
   "outputs": [],
   "source": [
    "from tensorflow.keras.preprocessing.sequence import pad_sequences\n"
   ]
  },
  {
   "cell_type": "code",
   "execution_count": 6,
   "metadata": {},
   "outputs": [],
   "source": [
    "audio_df=create_load_radvess([8]) "
   ]
  },
  {
   "cell_type": "code",
   "execution_count": 7,
   "metadata": {},
   "outputs": [
    {
     "data": {
      "text/html": [
       "<div>\n",
       "<style scoped>\n",
       "    .dataframe tbody tr th:only-of-type {\n",
       "        vertical-align: middle;\n",
       "    }\n",
       "\n",
       "    .dataframe tbody tr th {\n",
       "        vertical-align: top;\n",
       "    }\n",
       "\n",
       "    .dataframe thead th {\n",
       "        text-align: right;\n",
       "    }\n",
       "</style>\n",
       "<table border=\"1\" class=\"dataframe\">\n",
       "  <thead>\n",
       "    <tr style=\"text-align: right;\">\n",
       "      <th></th>\n",
       "      <th>gender</th>\n",
       "      <th>emotion</th>\n",
       "      <th>actor</th>\n",
       "      <th>path</th>\n",
       "    </tr>\n",
       "  </thead>\n",
       "  <tbody>\n",
       "    <tr>\n",
       "      <th>0</th>\n",
       "      <td>male</td>\n",
       "      <td>angry</td>\n",
       "      <td>1</td>\n",
       "      <td>/Users/pankajpatel/code/pankaj-lewagon/ser/raw...</td>\n",
       "    </tr>\n",
       "    <tr>\n",
       "      <th>1</th>\n",
       "      <td>male</td>\n",
       "      <td>fear</td>\n",
       "      <td>1</td>\n",
       "      <td>/Users/pankajpatel/code/pankaj-lewagon/ser/raw...</td>\n",
       "    </tr>\n",
       "    <tr>\n",
       "      <th>2</th>\n",
       "      <td>male</td>\n",
       "      <td>fear</td>\n",
       "      <td>1</td>\n",
       "      <td>/Users/pankajpatel/code/pankaj-lewagon/ser/raw...</td>\n",
       "    </tr>\n",
       "    <tr>\n",
       "      <th>3</th>\n",
       "      <td>male</td>\n",
       "      <td>angry</td>\n",
       "      <td>1</td>\n",
       "      <td>/Users/pankajpatel/code/pankaj-lewagon/ser/raw...</td>\n",
       "    </tr>\n",
       "    <tr>\n",
       "      <th>4</th>\n",
       "      <td>male</td>\n",
       "      <td>disgust</td>\n",
       "      <td>1</td>\n",
       "      <td>/Users/pankajpatel/code/pankaj-lewagon/ser/raw...</td>\n",
       "    </tr>\n",
       "  </tbody>\n",
       "</table>\n",
       "</div>"
      ],
      "text/plain": [
       "  gender  emotion  actor                                               path\n",
       "0   male    angry      1  /Users/pankajpatel/code/pankaj-lewagon/ser/raw...\n",
       "1   male     fear      1  /Users/pankajpatel/code/pankaj-lewagon/ser/raw...\n",
       "2   male     fear      1  /Users/pankajpatel/code/pankaj-lewagon/ser/raw...\n",
       "3   male    angry      1  /Users/pankajpatel/code/pankaj-lewagon/ser/raw...\n",
       "4   male  disgust      1  /Users/pankajpatel/code/pankaj-lewagon/ser/raw..."
      ]
     },
     "execution_count": 7,
     "metadata": {},
     "output_type": "execute_result"
    }
   ],
   "source": [
    "audio_df.head()"
   ]
  },
  {
   "cell_type": "code",
   "execution_count": 8,
   "metadata": {},
   "outputs": [],
   "source": [
    "def generate_melspec_tensor(df):\n",
    "    \"\"\"\n",
    "        Take data frame with lables and path of all the audio files and convert it to X to tensor compitable numpy.array \n",
    "        and  get target classification labels (i.e. emotion)\n",
    "        \n",
    "        return X = numpy.array \n",
    "               y = series \n",
    "    \"\"\"\n",
    "    n_melspec=60\n",
    "    audio_duration=2.5\n",
    "    sampling_rate_=44100\n",
    "    input_length= sampling_rate_ * audio_duration\n",
    "    \n",
    "    X_melspec = np.empty(shape=(df.shape[0], n_melspec, 216,1))\n",
    "    for index,path in enumerate(audio_df.path):\n",
    "        data, _ = librosa.load(path,sr=sampling_rate_,res_type='kaiser_fast',duration=2.5,offset=0.5)\n",
    "\n",
    "         # Random offset / Padding\n",
    "        if len(data) > input_length:\n",
    "            max_offset = len(data) - input_length\n",
    "            offset = np.random.randint(max_offset)\n",
    "            data = data[offset:(input_length+offset)]\n",
    "        else:\n",
    "            if input_length > len(data):\n",
    "                max_offset = input_length - len(data)\n",
    "                offset = np.random.randint(max_offset)\n",
    "            else:\n",
    "                offset = 0\n",
    "            data = np.pad(data, (offset, int(input_length) - len(data) - offset), \"constant\")\n",
    "            \n",
    "        #get the mel-scaled spectrogram (ransform both the y-axis (frequency) to log scale, \n",
    "        melspec = librosa.feature.melspectrogram(data, n_mels = n_melspec)   \n",
    "        logspec = librosa.amplitude_to_db(melspec)\n",
    "        logspec = np.expand_dims(logspec, axis=-1)\n",
    "        X_melspec[index,] = logspec\n",
    "\n",
    "        y=audio_df['emotion']\n",
    "    return X_melspec, y"
   ]
  },
  {
   "cell_type": "code",
   "execution_count": null,
   "metadata": {},
   "outputs": [],
   "source": []
  },
  {
   "cell_type": "code",
   "execution_count": 9,
   "metadata": {
    "scrolled": true
   },
   "outputs": [],
   "source": [
    "X,y=generate_melspec_tensor(audio_df)"
   ]
  },
  {
   "cell_type": "code",
   "execution_count": 10,
   "metadata": {},
   "outputs": [
    {
     "data": {
      "text/plain": [
       "pandas.core.series.Series"
      ]
     },
     "execution_count": 10,
     "metadata": {},
     "output_type": "execute_result"
    }
   ],
   "source": [
    "type(y)"
   ]
  },
  {
   "cell_type": "code",
   "execution_count": 11,
   "metadata": {},
   "outputs": [
    {
     "data": {
      "text/plain": [
       "numpy.ndarray"
      ]
     },
     "execution_count": 11,
     "metadata": {},
     "output_type": "execute_result"
    }
   ],
   "source": [
    "type(X)"
   ]
  },
  {
   "cell_type": "code",
   "execution_count": 12,
   "metadata": {},
   "outputs": [
    {
     "data": {
      "text/plain": [
       "(1248,)"
      ]
     },
     "execution_count": 12,
     "metadata": {},
     "output_type": "execute_result"
    }
   ],
   "source": [
    "y.shape"
   ]
  },
  {
   "cell_type": "markdown",
   "metadata": {},
   "source": [
    "# Data Preprocessing\n"
   ]
  },
  {
   "cell_type": "markdown",
   "metadata": {},
   "source": [
    "### Train test split , encode y emotion label and normalise X"
   ]
  },
  {
   "cell_type": "code",
   "execution_count": 44,
   "metadata": {},
   "outputs": [],
   "source": [
    "def prep_data(X,y):\n",
    "    \n",
    "    X_train,X_test, y_train,y_test = train_test_split(X,y, test_size=0.25, random_state=42,shuffle=True)\n",
    "    # ONE HOT ENCODE THE TARGET\n",
    "    # CNN REQUIRES INPUT AND OUTPUT ARE NUMBERS\n",
    "\n",
    "    lb = LabelEncoder()\n",
    "    y_train = to_categorical(lb.fit_transform(y_train))\n",
    "    y_test = to_categorical(lb.fit_transform(y_test))\n",
    "    \n",
    "    # Normalization as per the standard NN process\n",
    "    mean = np.mean(X_train, axis=0)\n",
    "    std = np.std(X_train, axis=0)\n",
    "\n",
    "    X_train = (X_train - mean)/std\n",
    "    X_test = (X_test - mean)/std\n",
    "    \n",
    "    return X_train,X_test, y_train, y_test,lb\n",
    "    "
   ]
  },
  {
   "cell_type": "code",
   "execution_count": 45,
   "metadata": {},
   "outputs": [],
   "source": [
    "\n",
    " X_train,X_test, y_train,y_test,lb=prep_data(X,y)\n"
   ]
  },
  {
   "cell_type": "code",
   "execution_count": null,
   "metadata": {},
   "outputs": [],
   "source": []
  },
  {
   "cell_type": "markdown",
   "metadata": {},
   "source": [
    "## Initial Tensor Model"
   ]
  },
  {
   "cell_type": "code",
   "execution_count": 15,
   "metadata": {},
   "outputs": [
    {
     "name": "stdout",
     "output_type": "stream",
     "text": [
      "Model: \"sequential\"\n",
      "_________________________________________________________________\n",
      "Layer (type)                 Output Shape              Param #   \n",
      "=================================================================\n",
      "conv2d (Conv2D)              (None, 60, 216, 32)       1312      \n",
      "_________________________________________________________________\n",
      "batch_normalization (BatchNo (None, 60, 216, 32)       128       \n",
      "_________________________________________________________________\n",
      "max_pooling2d (MaxPooling2D) (None, 30, 108, 32)       0         \n",
      "_________________________________________________________________\n",
      "dropout (Dropout)            (None, 30, 108, 32)       0         \n",
      "_________________________________________________________________\n",
      "conv2d_1 (Conv2D)            (None, 27, 99, 32)        40992     \n",
      "_________________________________________________________________\n",
      "batch_normalization_1 (Batch (None, 27, 99, 32)        128       \n",
      "_________________________________________________________________\n",
      "max_pooling2d_1 (MaxPooling2 (None, 13, 49, 32)        0         \n",
      "_________________________________________________________________\n",
      "dropout_1 (Dropout)          (None, 13, 49, 32)        0         \n",
      "_________________________________________________________________\n",
      "conv2d_2 (Conv2D)            (None, 10, 40, 32)        40992     \n",
      "_________________________________________________________________\n",
      "batch_normalization_2 (Batch (None, 10, 40, 32)        128       \n",
      "_________________________________________________________________\n",
      "max_pooling2d_2 (MaxPooling2 (None, 5, 20, 32)         0         \n",
      "_________________________________________________________________\n",
      "dropout_2 (Dropout)          (None, 5, 20, 32)         0         \n",
      "_________________________________________________________________\n",
      "conv2d_3 (Conv2D)            (None, 2, 11, 32)         40992     \n",
      "_________________________________________________________________\n",
      "batch_normalization_3 (Batch (None, 2, 11, 32)         128       \n",
      "_________________________________________________________________\n",
      "activation (Activation)      (None, 2, 11, 32)         0         \n",
      "_________________________________________________________________\n",
      "max_pooling2d_3 (MaxPooling2 (None, 1, 5, 32)          0         \n",
      "_________________________________________________________________\n",
      "dropout_3 (Dropout)          (None, 1, 5, 32)          0         \n",
      "_________________________________________________________________\n",
      "flatten (Flatten)            (None, 160)               0         \n",
      "_________________________________________________________________\n",
      "dense (Dense)                (None, 64)                10304     \n",
      "_________________________________________________________________\n",
      "dropout_4 (Dropout)          (None, 64)                0         \n",
      "_________________________________________________________________\n",
      "batch_normalization_4 (Batch (None, 64)                256       \n",
      "_________________________________________________________________\n",
      "activation_1 (Activation)    (None, 64)                0         \n",
      "_________________________________________________________________\n",
      "flatten_1 (Flatten)          (None, 64)                0         \n",
      "_________________________________________________________________\n",
      "dropout_5 (Dropout)          (None, 64)                0         \n",
      "_________________________________________________________________\n",
      "dense_1 (Dense)              (None, 7)                 455       \n",
      "=================================================================\n",
      "Total params: 135,815\n",
      "Trainable params: 135,431\n",
      "Non-trainable params: 384\n",
      "_________________________________________________________________\n"
     ]
    },
    {
     "name": "stderr",
     "output_type": "stream",
     "text": [
      "2021-09-03 15:31:19.056816: I tensorflow/core/platform/cpu_feature_guard.cc:142] This TensorFlow binary is optimized with oneAPI Deep Neural Network Library (oneDNN) to use the following CPU instructions in performance-critical operations:  AVX2 FMA\n",
      "To enable them in other operations, rebuild TensorFlow with the appropriate compiler flags.\n"
     ]
    }
   ],
   "source": [
    "#def make_classifier2(optimizer=opt):\n",
    "# kernel size is set \n",
    "\n",
    "\n",
    "output_shape = y_train.shape[1]\n",
    "\n",
    "from tensorflow.keras import callbacks\n",
    "es = callbacks.EarlyStopping(patience=30, restore_best_weights=True)\n",
    "\n",
    "#BUILD CNN MODEL\n",
    "model = Sequential()\n",
    "model.add(layers.Conv2D(32, kernel_size=(4,10), activation='relu', input_shape=X_train[1].shape,padding=\"same\"))\n",
    "model.add(layers.BatchNormalization())\n",
    "model.add(layers.MaxPooling2D())\n",
    "model.add(layers.Dropout(0.2)) # 1st\n",
    "\n",
    "model.add(layers.Conv2D(32, kernel_size=(4,10), activation='relu'))\n",
    "model.add(layers.BatchNormalization())\n",
    "model.add(layers.MaxPooling2D())\n",
    "model.add(layers.Dropout(0.2)) # 2nd\n",
    "          \n",
    "model.add(layers.Conv2D(32, kernel_size=(4,10), activation='relu'))\n",
    "model.add(layers.BatchNormalization())\n",
    "model.add(layers.MaxPooling2D())\n",
    "model.add(layers.Dropout(0.2)) # 3rd \n",
    "\n",
    "model.add(layers.Conv2D(32, kernel_size=(4,10)))\n",
    "model.add(layers.BatchNormalization())\n",
    "model.add(layers.Activation('relu'))\n",
    "model.add(layers.MaxPooling2D())\n",
    "model.add(layers.Dropout(0.2)) # 4rd \n",
    "          \n",
    "          \n",
    "model.add(layers.Flatten())\n",
    "model.add(layers.Dense(64))\n",
    "model.add(layers.Dropout(0.2))\n",
    "model.add(layers.BatchNormalization())\n",
    "model.add(layers.Activation('relu'))\n",
    "model.add(layers.Flatten())\n",
    "model.add(layers.Dropout(0.2))\n",
    "\n",
    "model.add(layers.Dense(output_shape, activation='softmax'))\n",
    "model.compile(loss='categorical_crossentropy', optimizer='adam',metrics=['accuracy','Precision', 'Recall'])\n",
    "model.summary()"
   ]
  },
  {
   "cell_type": "code",
   "execution_count": 16,
   "metadata": {},
   "outputs": [
    {
     "name": "stderr",
     "output_type": "stream",
     "text": [
      "2021-09-03 15:31:19.242564: I tensorflow/compiler/mlir/mlir_graph_optimization_pass.cc:185] None of the MLIR Optimization Passes are enabled (registered 2)\n"
     ]
    },
    {
     "name": "stdout",
     "output_type": "stream",
     "text": [
      "Epoch 1/40\n",
      "47/47 [==============================] - 9s 172ms/step - loss: 1.8970 - accuracy: 0.2340 - precision: 0.3267 - recall: 0.0655 - val_loss: 1.7179 - val_accuracy: 0.3457 - val_precision: 0.0000e+00 - val_recall: 0.0000e+00\n",
      "Epoch 2/40\n",
      "47/47 [==============================] - 8s 165ms/step - loss: 1.7916 - accuracy: 0.2888 - precision: 0.3257 - recall: 0.0762 - val_loss: 1.8079 - val_accuracy: 0.2872 - val_precision: 0.0000e+00 - val_recall: 0.0000e+00\n",
      "Epoch 3/40\n",
      "47/47 [==============================] - 8s 166ms/step - loss: 1.7460 - accuracy: 0.3128 - precision: 0.4343 - recall: 0.1016 - val_loss: 1.7333 - val_accuracy: 0.3298 - val_precision: 0.6500 - val_recall: 0.0691\n",
      "Epoch 4/40\n",
      "47/47 [==============================] - 8s 166ms/step - loss: 1.6340 - accuracy: 0.3342 - precision: 0.4326 - recall: 0.1029 - val_loss: 1.6783 - val_accuracy: 0.3777 - val_precision: 0.6364 - val_recall: 0.0745\n",
      "Epoch 5/40\n",
      "47/47 [==============================] - 8s 167ms/step - loss: 1.6409 - accuracy: 0.3316 - precision: 0.4620 - recall: 0.1056 - val_loss: 1.6806 - val_accuracy: 0.3723 - val_precision: 0.8750 - val_recall: 0.0372\n",
      "Epoch 6/40\n",
      "47/47 [==============================] - 8s 169ms/step - loss: 1.6363 - accuracy: 0.3489 - precision: 0.4167 - recall: 0.1070 - val_loss: 1.6230 - val_accuracy: 0.3989 - val_precision: 0.7727 - val_recall: 0.0904\n",
      "Epoch 7/40\n",
      "47/47 [==============================] - 8s 171ms/step - loss: 1.5923 - accuracy: 0.3570 - precision: 0.4895 - recall: 0.1243 - val_loss: 1.6480 - val_accuracy: 0.4043 - val_precision: 0.9091 - val_recall: 0.0532\n",
      "Epoch 8/40\n",
      "47/47 [==============================] - 8s 169ms/step - loss: 1.5470 - accuracy: 0.3570 - precision: 0.4697 - recall: 0.1243 - val_loss: 1.6799 - val_accuracy: 0.3883 - val_precision: 0.5522 - val_recall: 0.1968\n",
      "Epoch 9/40\n",
      "47/47 [==============================] - 8s 169ms/step - loss: 1.5079 - accuracy: 0.3957 - precision: 0.5760 - recall: 0.1671 - val_loss: 1.5804 - val_accuracy: 0.4362 - val_precision: 0.7556 - val_recall: 0.1809\n",
      "Epoch 10/40\n",
      "47/47 [==============================] - 8s 170ms/step - loss: 1.4533 - accuracy: 0.4051 - precision: 0.5397 - recall: 0.1818 - val_loss: 1.6661 - val_accuracy: 0.3883 - val_precision: 0.5484 - val_recall: 0.1809\n",
      "Epoch 11/40\n",
      "47/47 [==============================] - 8s 172ms/step - loss: 1.3869 - accuracy: 0.4586 - precision: 0.5925 - recall: 0.2099 - val_loss: 1.6037 - val_accuracy: 0.4096 - val_precision: 0.6029 - val_recall: 0.2181\n",
      "Epoch 12/40\n",
      "47/47 [==============================] - 8s 173ms/step - loss: 1.3832 - accuracy: 0.4586 - precision: 0.6130 - recall: 0.2139 - val_loss: 1.5579 - val_accuracy: 0.4468 - val_precision: 0.6875 - val_recall: 0.2340\n",
      "Epoch 13/40\n",
      "47/47 [==============================] - 8s 176ms/step - loss: 1.3599 - accuracy: 0.4398 - precision: 0.6024 - recall: 0.2005 - val_loss: 1.5192 - val_accuracy: 0.4255 - val_precision: 0.6939 - val_recall: 0.1809\n",
      "Epoch 14/40\n",
      "47/47 [==============================] - 8s 180ms/step - loss: 1.2786 - accuracy: 0.4920 - precision: 0.6772 - recall: 0.2580 - val_loss: 1.5036 - val_accuracy: 0.4574 - val_precision: 0.6596 - val_recall: 0.1649\n",
      "Epoch 15/40\n",
      "47/47 [==============================] - 9s 181ms/step - loss: 1.2532 - accuracy: 0.5147 - precision: 0.6443 - recall: 0.2567 - val_loss: 1.4421 - val_accuracy: 0.4894 - val_precision: 0.7463 - val_recall: 0.2660\n",
      "Epoch 16/40\n",
      "47/47 [==============================] - 8s 181ms/step - loss: 1.2232 - accuracy: 0.5281 - precision: 0.6757 - recall: 0.2674 - val_loss: 1.5336 - val_accuracy: 0.4574 - val_precision: 0.6667 - val_recall: 0.1596\n",
      "Epoch 17/40\n",
      "47/47 [==============================] - 9s 181ms/step - loss: 1.1663 - accuracy: 0.5588 - precision: 0.6941 - recall: 0.3155 - val_loss: 1.4367 - val_accuracy: 0.4681 - val_precision: 0.6667 - val_recall: 0.2447\n",
      "Epoch 18/40\n",
      "47/47 [==============================] - 9s 183ms/step - loss: 1.1611 - accuracy: 0.5455 - precision: 0.7045 - recall: 0.3155 - val_loss: 1.4443 - val_accuracy: 0.4947 - val_precision: 0.6437 - val_recall: 0.2979\n",
      "Epoch 19/40\n",
      "47/47 [==============================] - 9s 182ms/step - loss: 1.0989 - accuracy: 0.5722 - precision: 0.7285 - recall: 0.3623 - val_loss: 1.4378 - val_accuracy: 0.4468 - val_precision: 0.6132 - val_recall: 0.3457\n",
      "Epoch 20/40\n",
      "47/47 [==============================] - 9s 185ms/step - loss: 1.0919 - accuracy: 0.5775 - precision: 0.7270 - recall: 0.3810 - val_loss: 1.5018 - val_accuracy: 0.4894 - val_precision: 0.5772 - val_recall: 0.3777\n",
      "Epoch 21/40\n",
      "47/47 [==============================] - 9s 184ms/step - loss: 1.0047 - accuracy: 0.6043 - precision: 0.7446 - recall: 0.4171 - val_loss: 1.3944 - val_accuracy: 0.5053 - val_precision: 0.6790 - val_recall: 0.2926\n",
      "Epoch 22/40\n",
      "47/47 [==============================] - 9s 185ms/step - loss: 1.0048 - accuracy: 0.6150 - precision: 0.7582 - recall: 0.4318 - val_loss: 1.3991 - val_accuracy: 0.5106 - val_precision: 0.6129 - val_recall: 0.4043\n",
      "Epoch 23/40\n",
      "47/47 [==============================] - 9s 186ms/step - loss: 0.9131 - accuracy: 0.6778 - precision: 0.7965 - recall: 0.4866 - val_loss: 1.3698 - val_accuracy: 0.5479 - val_precision: 0.6667 - val_recall: 0.4255\n",
      "Epoch 24/40\n",
      "47/47 [==============================] - 9s 187ms/step - loss: 0.8854 - accuracy: 0.6778 - precision: 0.7966 - recall: 0.5080 - val_loss: 1.3435 - val_accuracy: 0.5691 - val_precision: 0.7300 - val_recall: 0.3883\n",
      "Epoch 25/40\n",
      "47/47 [==============================] - 9s 186ms/step - loss: 0.8625 - accuracy: 0.6778 - precision: 0.8137 - recall: 0.5254 - val_loss: 1.4567 - val_accuracy: 0.5000 - val_precision: 0.5984 - val_recall: 0.4043\n",
      "Epoch 26/40\n",
      "47/47 [==============================] - 9s 186ms/step - loss: 0.7818 - accuracy: 0.7126 - precision: 0.8086 - recall: 0.5816 - val_loss: 1.4140 - val_accuracy: 0.4894 - val_precision: 0.5932 - val_recall: 0.3723\n",
      "Epoch 27/40\n",
      "47/47 [==============================] - 9s 187ms/step - loss: 0.7364 - accuracy: 0.7420 - precision: 0.8391 - recall: 0.5856 - val_loss: 1.3382 - val_accuracy: 0.5372 - val_precision: 0.6864 - val_recall: 0.4309\n",
      "Epoch 28/40\n",
      "47/47 [==============================] - 9s 190ms/step - loss: 0.7960 - accuracy: 0.7099 - precision: 0.8101 - recall: 0.5989 - val_loss: 1.2825 - val_accuracy: 0.5532 - val_precision: 0.6587 - val_recall: 0.4415\n",
      "Epoch 29/40\n",
      "47/47 [==============================] - 9s 188ms/step - loss: 0.7381 - accuracy: 0.7447 - precision: 0.8301 - recall: 0.6270 - val_loss: 1.4319 - val_accuracy: 0.5266 - val_precision: 0.6198 - val_recall: 0.3989\n",
      "Epoch 30/40\n",
      "47/47 [==============================] - 9s 187ms/step - loss: 0.6953 - accuracy: 0.7299 - precision: 0.8238 - recall: 0.6377 - val_loss: 1.3852 - val_accuracy: 0.5691 - val_precision: 0.6589 - val_recall: 0.4521\n",
      "Epoch 31/40\n",
      "47/47 [==============================] - 9s 184ms/step - loss: 0.6710 - accuracy: 0.7634 - precision: 0.8342 - recall: 0.6591 - val_loss: 1.2786 - val_accuracy: 0.5691 - val_precision: 0.6585 - val_recall: 0.4309\n",
      "Epoch 32/40\n",
      "47/47 [==============================] - 9s 184ms/step - loss: 0.5889 - accuracy: 0.8102 - precision: 0.8767 - recall: 0.6939 - val_loss: 1.3525 - val_accuracy: 0.5638 - val_precision: 0.6547 - val_recall: 0.4840\n",
      "Epoch 33/40\n",
      "47/47 [==============================] - 9s 184ms/step - loss: 0.6048 - accuracy: 0.7914 - precision: 0.8664 - recall: 0.7112 - val_loss: 1.3598 - val_accuracy: 0.5691 - val_precision: 0.6642 - val_recall: 0.4840\n",
      "Epoch 34/40\n",
      "47/47 [==============================] - 9s 185ms/step - loss: 0.5187 - accuracy: 0.8249 - precision: 0.8875 - recall: 0.7380 - val_loss: 1.2028 - val_accuracy: 0.6064 - val_precision: 0.6691 - val_recall: 0.4947\n",
      "Epoch 35/40\n",
      "47/47 [==============================] - 9s 187ms/step - loss: 0.5499 - accuracy: 0.8155 - precision: 0.8471 - recall: 0.7406 - val_loss: 1.2777 - val_accuracy: 0.5585 - val_precision: 0.6791 - val_recall: 0.4840\n",
      "Epoch 36/40\n",
      "47/47 [==============================] - 9s 184ms/step - loss: 0.4976 - accuracy: 0.8262 - precision: 0.8836 - recall: 0.7513 - val_loss: 1.2753 - val_accuracy: 0.5638 - val_precision: 0.6741 - val_recall: 0.4840\n",
      "Epoch 37/40\n"
     ]
    },
    {
     "name": "stdout",
     "output_type": "stream",
     "text": [
      "47/47 [==============================] - 9s 186ms/step - loss: 0.4637 - accuracy: 0.8503 - precision: 0.8984 - recall: 0.7687 - val_loss: 1.3113 - val_accuracy: 0.5479 - val_precision: 0.6439 - val_recall: 0.4521\n",
      "Epoch 38/40\n",
      "47/47 [==============================] - 9s 184ms/step - loss: 0.4652 - accuracy: 0.8449 - precision: 0.8787 - recall: 0.7848 - val_loss: 1.2558 - val_accuracy: 0.5798 - val_precision: 0.6667 - val_recall: 0.5000\n",
      "Epoch 39/40\n",
      "47/47 [==============================] - 9s 184ms/step - loss: 0.4113 - accuracy: 0.8663 - precision: 0.9066 - recall: 0.8048 - val_loss: 1.2568 - val_accuracy: 0.6011 - val_precision: 0.6757 - val_recall: 0.5319\n",
      "Epoch 40/40\n",
      "47/47 [==============================] - 9s 187ms/step - loss: 0.3846 - accuracy: 0.8717 - precision: 0.8993 - recall: 0.8356 - val_loss: 1.2952 - val_accuracy: 0.5851 - val_precision: 0.6053 - val_recall: 0.4894\n"
     ]
    }
   ],
   "source": [
    "model_history=model.fit(X_train, y_train,batch_size=16, epochs=40, validation_split=0.2)"
   ]
  },
  {
   "cell_type": "code",
   "execution_count": 17,
   "metadata": {},
   "outputs": [
    {
     "name": "stdout",
     "output_type": "stream",
     "text": [
      "[1.2081661224365234, 0.5769230723381042, 0.6531531810760498, 0.46474358439445496]\n"
     ]
    }
   ],
   "source": [
    "## We now evaluate on the test data\n",
    "print(model.evaluate(X_test, y_test, verbose=0))"
   ]
  },
  {
   "cell_type": "code",
   "execution_count": 18,
   "metadata": {},
   "outputs": [],
   "source": [
    "\n",
    "# predict probabilities for test set\n",
    "y_pred = model.predict(X_test, verbose=0)\n",
    "# predict crisp classes for test set"
   ]
  },
  {
   "cell_type": "code",
   "execution_count": 23,
   "metadata": {},
   "outputs": [
    {
     "data": {
      "image/png": "[encoded data removed]",
      "text/plain": [
       "<Figure size 432x288 with 1 Axes>"
      ]
     },
     "metadata": {
      "needs_background": "light"
     },
     "output_type": "display_data"
    },
    {
     "data": {
      "image/png": "[encoded data removed]",
      "text/plain": [
       "<Figure size 432x288 with 1 Axes>"
      ]
     },
     "metadata": {
      "needs_background": "light"
     },
     "output_type": "display_data"
    }
   ],
   "source": [
    "\n",
    "# PLOT MODEL HISTORY OF ACCURACY AND LOSS OVER EPOCHS\n",
    "plt.plot(model_history.history['accuracy'])\n",
    "plt.plot(model_history.history['val_accuracy'])\n",
    "plt.title('Model Accuracy')\n",
    "plt.ylabel('Accuracy')\n",
    "plt.xlabel('Epoch')\n",
    "plt.legend(['Train', 'Test'], loc='upper left')\n",
    "plt.savefig('Initial_Model_Accuracy.png')\n",
    "plt.show()\n",
    "# summarize history for loss\n",
    "plt.plot(model_history.history['loss'])\n",
    "plt.plot(model_history.history['val_loss'])\n",
    "plt.title('Model Loss')\n",
    "plt.ylabel('Loss')\n",
    "plt.xlabel('Epoch')\n",
    "plt.legend(['train', 'test'], loc='upper left')\n",
    "plt.savefig('Initial_Model_loss.png')\n",
    "plt.show()"
   ]
  },
  {
   "cell_type": "code",
   "execution_count": null,
   "metadata": {},
   "outputs": [],
   "source": []
  },
  {
   "cell_type": "code",
   "execution_count": 19,
   "metadata": {
    "scrolled": true
   },
   "outputs": [
    {
     "name": "stdout",
     "output_type": "stream",
     "text": [
      "WARNING:tensorflow:`period` argument is deprecated. Please use `save_freq` to specify the frequency in number of batches seen.\n",
      "Epoch 1/40\n",
      "24/24 [==============================] - 8s 334ms/step - loss: 0.3597 - accuracy: 0.8864 - precision: 0.9141 - recall: 0.8396 - val_loss: 1.3027 - val_accuracy: 0.6117 - val_precision: 0.6913 - val_recall: 0.5479\n",
      "\n",
      "Epoch 00001: val_accuracy improved from -inf to 0.61170, saving model to best_initial_model.hdf5\n",
      "Epoch 2/40\n",
      "24/24 [==============================] - 8s 349ms/step - loss: 0.2807 - accuracy: 0.9211 - precision: 0.9512 - recall: 0.8864 - val_loss: 1.2600 - val_accuracy: 0.5957 - val_precision: 0.6712 - val_recall: 0.5213\n",
      "\n",
      "Epoch 00002: val_accuracy did not improve from 0.61170\n",
      "Epoch 3/40\n",
      "24/24 [==============================] - 8s 327ms/step - loss: 0.2394 - accuracy: 0.9332 - precision: 0.9581 - recall: 0.8864 - val_loss: 1.2922 - val_accuracy: 0.6064 - val_precision: 0.6735 - val_recall: 0.5266\n",
      "\n",
      "Epoch 00003: val_accuracy did not improve from 0.61170\n",
      "Epoch 4/40\n",
      "24/24 [==============================] - 8s 338ms/step - loss: 0.2410 - accuracy: 0.9345 - precision: 0.9504 - recall: 0.8971 - val_loss: 1.3431 - val_accuracy: 0.6064 - val_precision: 0.6622 - val_recall: 0.5213\n",
      "\n",
      "Epoch 00004: val_accuracy did not improve from 0.61170\n",
      "Epoch 5/40\n",
      "24/24 [==============================] - 8s 333ms/step - loss: 0.2500 - accuracy: 0.9251 - precision: 0.9533 - recall: 0.9011 - val_loss: 1.3066 - val_accuracy: 0.6170 - val_precision: 0.6846 - val_recall: 0.5426\n",
      "\n",
      "Epoch 00005: val_accuracy improved from 0.61170 to 0.61702, saving model to best_initial_model.hdf5\n",
      "Epoch 6/40\n",
      "24/24 [==============================] - 8s 338ms/step - loss: 0.2206 - accuracy: 0.9398 - precision: 0.9565 - recall: 0.9104 - val_loss: 1.2700 - val_accuracy: 0.6117 - val_precision: 0.6863 - val_recall: 0.5585\n",
      "\n",
      "Epoch 00006: val_accuracy did not improve from 0.61702\n",
      "Epoch 7/40\n",
      "24/24 [==============================] - 8s 332ms/step - loss: 0.2125 - accuracy: 0.9412 - precision: 0.9649 - recall: 0.9184 - val_loss: 1.2300 - val_accuracy: 0.6170 - val_precision: 0.6933 - val_recall: 0.5532\n",
      "\n",
      "Epoch 00007: val_accuracy did not improve from 0.61702\n",
      "Epoch 8/40\n",
      "24/24 [==============================] - 8s 332ms/step - loss: 0.2298 - accuracy: 0.9372 - precision: 0.9476 - recall: 0.9184 - val_loss: 1.3253 - val_accuracy: 0.6011 - val_precision: 0.7260 - val_recall: 0.5638\n",
      "\n",
      "Epoch 00008: val_accuracy did not improve from 0.61702\n",
      "Epoch 9/40\n",
      "24/24 [==============================] - 8s 333ms/step - loss: 0.2516 - accuracy: 0.9091 - precision: 0.9355 - recall: 0.8917 - val_loss: 1.3001 - val_accuracy: 0.6489 - val_precision: 0.7086 - val_recall: 0.5691\n",
      "\n",
      "Epoch 00009: val_accuracy improved from 0.61702 to 0.64894, saving model to best_initial_model.hdf5\n",
      "Epoch 10/40\n",
      "24/24 [==============================] - 8s 339ms/step - loss: 0.1930 - accuracy: 0.9452 - precision: 0.9623 - recall: 0.9211 - val_loss: 1.3316 - val_accuracy: 0.6170 - val_precision: 0.6772 - val_recall: 0.5691\n",
      "\n",
      "Epoch 00010: val_accuracy did not improve from 0.64894\n",
      "Epoch 11/40\n",
      "24/24 [==============================] - 8s 330ms/step - loss: 0.1705 - accuracy: 0.9559 - precision: 0.9722 - recall: 0.9345 - val_loss: 1.3167 - val_accuracy: 0.6330 - val_precision: 0.6835 - val_recall: 0.5745\n",
      "\n",
      "Epoch 00011: val_accuracy did not improve from 0.64894\n",
      "Epoch 12/40\n",
      "24/24 [==============================] - 8s 328ms/step - loss: 0.1764 - accuracy: 0.9412 - precision: 0.9559 - recall: 0.9278 - val_loss: 1.3665 - val_accuracy: 0.5957 - val_precision: 0.6460 - val_recall: 0.5532\n",
      "\n",
      "Epoch 00012: val_accuracy did not improve from 0.64894\n",
      "Epoch 13/40\n",
      "24/24 [==============================] - 8s 338ms/step - loss: 0.1559 - accuracy: 0.9666 - precision: 0.9737 - recall: 0.9398 - val_loss: 1.4399 - val_accuracy: 0.6117 - val_precision: 0.6730 - val_recall: 0.5691\n",
      "\n",
      "Epoch 00013: val_accuracy did not improve from 0.64894\n",
      "Epoch 14/40\n",
      "24/24 [==============================] - 8s 334ms/step - loss: 0.1528 - accuracy: 0.9599 - precision: 0.9712 - recall: 0.9479 - val_loss: 1.3942 - val_accuracy: 0.6117 - val_precision: 0.6603 - val_recall: 0.5479\n",
      "\n",
      "Epoch 00014: val_accuracy did not improve from 0.64894\n",
      "Epoch 15/40\n",
      "24/24 [==============================] - 9s 357ms/step - loss: 0.1574 - accuracy: 0.9572 - precision: 0.9683 - recall: 0.9398 - val_loss: 1.4283 - val_accuracy: 0.5957 - val_precision: 0.6710 - val_recall: 0.5532\n",
      "\n",
      "Epoch 00015: val_accuracy did not improve from 0.64894\n",
      "Epoch 16/40\n",
      "24/24 [==============================] - 8s 332ms/step - loss: 0.1617 - accuracy: 0.9519 - precision: 0.9627 - recall: 0.9305 - val_loss: 1.4063 - val_accuracy: 0.5957 - val_precision: 0.6626 - val_recall: 0.5745\n",
      "\n",
      "Epoch 00016: val_accuracy did not improve from 0.64894\n",
      "Epoch 17/40\n",
      "24/24 [==============================] - 8s 342ms/step - loss: 0.1671 - accuracy: 0.9612 - precision: 0.9698 - recall: 0.9439 - val_loss: 1.3526 - val_accuracy: 0.6170 - val_precision: 0.6296 - val_recall: 0.5426\n",
      "\n",
      "Epoch 00017: val_accuracy did not improve from 0.64894\n",
      "Epoch 18/40\n",
      "24/24 [==============================] - 8s 351ms/step - loss: 0.1613 - accuracy: 0.9666 - precision: 0.9727 - recall: 0.9519 - val_loss: 1.3244 - val_accuracy: 0.6117 - val_precision: 0.6645 - val_recall: 0.5479\n",
      "\n",
      "Epoch 00018: val_accuracy did not improve from 0.64894\n",
      "Epoch 19/40\n",
      "24/24 [==============================] - 8s 340ms/step - loss: 0.1701 - accuracy: 0.9559 - precision: 0.9658 - recall: 0.9452 - val_loss: 1.3302 - val_accuracy: 0.6064 - val_precision: 0.6774 - val_recall: 0.5585\n",
      "\n",
      "Epoch 00019: val_accuracy did not improve from 0.64894\n",
      "Epoch 20/40\n",
      "24/24 [==============================] - 8s 335ms/step - loss: 0.1442 - accuracy: 0.9532 - precision: 0.9684 - recall: 0.9425 - val_loss: 1.3676 - val_accuracy: 0.6170 - val_precision: 0.6753 - val_recall: 0.5532\n",
      "\n",
      "Epoch 00020: val_accuracy did not improve from 0.64894\n",
      "Epoch 21/40\n",
      "24/24 [==============================] - 8s 328ms/step - loss: 0.1565 - accuracy: 0.9572 - precision: 0.9658 - recall: 0.9452 - val_loss: 1.4163 - val_accuracy: 0.6064 - val_precision: 0.6688 - val_recall: 0.5585\n",
      "\n",
      "Epoch 00021: val_accuracy did not improve from 0.64894\n",
      "Epoch 22/40\n",
      "24/24 [==============================] - 8s 330ms/step - loss: 0.1672 - accuracy: 0.9425 - precision: 0.9459 - recall: 0.9345 - val_loss: 1.3573 - val_accuracy: 0.6277 - val_precision: 0.6585 - val_recall: 0.5745\n",
      "\n",
      "Epoch 00022: val_accuracy did not improve from 0.64894\n",
      "Epoch 23/40\n",
      "24/24 [==============================] - 8s 332ms/step - loss: 0.1545 - accuracy: 0.9532 - precision: 0.9602 - recall: 0.9345 - val_loss: 1.3793 - val_accuracy: 0.6383 - val_precision: 0.6810 - val_recall: 0.5904\n",
      "\n",
      "Epoch 00023: val_accuracy did not improve from 0.64894\n",
      "Epoch 24/40\n",
      "24/24 [==============================] - 8s 331ms/step - loss: 0.1537 - accuracy: 0.9545 - precision: 0.9659 - recall: 0.9465 - val_loss: 1.3821 - val_accuracy: 0.6064 - val_precision: 0.6772 - val_recall: 0.5691\n",
      "\n",
      "Epoch 00024: val_accuracy did not improve from 0.64894\n",
      "Epoch 25/40\n",
      "24/24 [==============================] - 8s 332ms/step - loss: 0.1345 - accuracy: 0.9639 - precision: 0.9686 - recall: 0.9492 - val_loss: 1.3553 - val_accuracy: 0.6436 - val_precision: 0.6894 - val_recall: 0.5904\n",
      "\n",
      "Epoch 00025: val_accuracy did not improve from 0.64894\n",
      "Epoch 26/40\n",
      "24/24 [==============================] - 8s 334ms/step - loss: 0.1346 - accuracy: 0.9679 - precision: 0.9728 - recall: 0.9572 - val_loss: 1.3038 - val_accuracy: 0.6383 - val_precision: 0.6707 - val_recall: 0.5957\n",
      "\n",
      "Epoch 00026: val_accuracy did not improve from 0.64894\n",
      "Epoch 27/40\n",
      "24/24 [==============================] - 8s 332ms/step - loss: 0.1283 - accuracy: 0.9626 - precision: 0.9753 - recall: 0.9519 - val_loss: 1.3046 - val_accuracy: 0.6436 - val_precision: 0.6951 - val_recall: 0.6064\n",
      "\n",
      "Epoch 00027: val_accuracy did not improve from 0.64894\n",
      "Epoch 28/40\n",
      "24/24 [==============================] - 8s 342ms/step - loss: 0.1242 - accuracy: 0.9599 - precision: 0.9740 - recall: 0.9519 - val_loss: 1.3556 - val_accuracy: 0.6223 - val_precision: 0.6708 - val_recall: 0.5745\n",
      "\n",
      "Epoch 00028: val_accuracy did not improve from 0.64894\n",
      "Epoch 29/40\n"
     ]
    },
    {
     "name": "stdout",
     "output_type": "stream",
     "text": [
      "24/24 [==============================] - 8s 329ms/step - loss: 0.1110 - accuracy: 0.9679 - precision: 0.9796 - recall: 0.9626 - val_loss: 1.3183 - val_accuracy: 0.6436 - val_precision: 0.6933 - val_recall: 0.6011\n",
      "\n",
      "Epoch 00029: val_accuracy did not improve from 0.64894\n",
      "Epoch 30/40\n",
      "24/24 [==============================] - 8s 337ms/step - loss: 0.1072 - accuracy: 0.9666 - precision: 0.9728 - recall: 0.9572 - val_loss: 1.3862 - val_accuracy: 0.6223 - val_precision: 0.6667 - val_recall: 0.5745\n",
      "\n",
      "Epoch 00030: val_accuracy did not improve from 0.64894\n",
      "Epoch 31/40\n",
      "24/24 [==============================] - 8s 337ms/step - loss: 0.1107 - accuracy: 0.9652 - precision: 0.9756 - recall: 0.9639 - val_loss: 1.4581 - val_accuracy: 0.6117 - val_precision: 0.6543 - val_recall: 0.5638\n",
      "\n",
      "Epoch 00031: val_accuracy did not improve from 0.64894\n",
      "Epoch 32/40\n",
      "24/24 [==============================] - 8s 335ms/step - loss: 0.1206 - accuracy: 0.9639 - precision: 0.9728 - recall: 0.9559 - val_loss: 1.3812 - val_accuracy: 0.6117 - val_precision: 0.6786 - val_recall: 0.6064\n",
      "\n",
      "Epoch 00032: val_accuracy did not improve from 0.64894\n",
      "Epoch 33/40\n",
      "24/24 [==============================] - 8s 337ms/step - loss: 0.1135 - accuracy: 0.9706 - precision: 0.9770 - recall: 0.9639 - val_loss: 1.4853 - val_accuracy: 0.6170 - val_precision: 0.6590 - val_recall: 0.6064\n",
      "\n",
      "Epoch 00033: val_accuracy did not improve from 0.64894\n",
      "Epoch 34/40\n",
      "24/24 [==============================] - 8s 333ms/step - loss: 0.1141 - accuracy: 0.9612 - precision: 0.9728 - recall: 0.9572 - val_loss: 1.3785 - val_accuracy: 0.6117 - val_precision: 0.6627 - val_recall: 0.5851\n",
      "\n",
      "Epoch 00034: val_accuracy did not improve from 0.64894\n",
      "Epoch 35/40\n",
      "24/24 [==============================] - 8s 331ms/step - loss: 0.1161 - accuracy: 0.9666 - precision: 0.9728 - recall: 0.9545 - val_loss: 1.4668 - val_accuracy: 0.6117 - val_precision: 0.6625 - val_recall: 0.5638\n",
      "\n",
      "Epoch 00035: val_accuracy did not improve from 0.64894\n",
      "Epoch 36/40\n",
      "24/24 [==============================] - 8s 334ms/step - loss: 0.1276 - accuracy: 0.9639 - precision: 0.9699 - recall: 0.9479 - val_loss: 1.4559 - val_accuracy: 0.6223 - val_precision: 0.6467 - val_recall: 0.5745\n",
      "\n",
      "Epoch 00036: val_accuracy did not improve from 0.64894\n",
      "Epoch 37/40\n",
      "24/24 [==============================] - 8s 329ms/step - loss: 0.1028 - accuracy: 0.9773 - precision: 0.9810 - recall: 0.9679 - val_loss: 1.5064 - val_accuracy: 0.5745 - val_precision: 0.6220 - val_recall: 0.5426\n",
      "\n",
      "Epoch 00037: val_accuracy did not improve from 0.64894\n",
      "Epoch 38/40\n",
      "24/24 [==============================] - 8s 330ms/step - loss: 0.0937 - accuracy: 0.9746 - precision: 0.9783 - recall: 0.9666 - val_loss: 1.4754 - val_accuracy: 0.5745 - val_precision: 0.6456 - val_recall: 0.5426\n",
      "\n",
      "Epoch 00038: val_accuracy did not improve from 0.64894\n",
      "Epoch 39/40\n",
      "24/24 [==============================] - 8s 327ms/step - loss: 0.1190 - accuracy: 0.9666 - precision: 0.9728 - recall: 0.9559 - val_loss: 1.4580 - val_accuracy: 0.6223 - val_precision: 0.6765 - val_recall: 0.6117\n",
      "\n",
      "Epoch 00039: val_accuracy did not improve from 0.64894\n",
      "Epoch 40/40\n",
      "24/24 [==============================] - 8s 331ms/step - loss: 0.0842 - accuracy: 0.9826 - precision: 0.9865 - recall: 0.9773 - val_loss: 1.4952 - val_accuracy: 0.6170 - val_precision: 0.6545 - val_recall: 0.5745\n",
      "\n",
      "Epoch 00040: val_accuracy did not improve from 0.64894\n"
     ]
    }
   ],
   "source": [
    "import tensorflow.keras as keras\n",
    "\n",
    "# FIT MODEL AND USE CHECKPOINT TO SAVE BEST MODEL - THe graphs below as based on the continuing running thr above model \n",
    "# as it was saved off. \n",
    "checkpoint = ModelCheckpoint(\"best_initial_model.hdf5\", monitor='val_accuracy', verbose=1,\n",
    "    save_best_only=True, mode='max', period=1, save_weights_only=True)\n",
    "\n",
    "model_history2=model.fit(X_train, y_train,batch_size=32, epochs=40, validation_split=0.2,callbacks=[checkpoint])\n"
   ]
  },
  {
   "cell_type": "code",
   "execution_count": 25,
   "metadata": {
    "scrolled": true
   },
   "outputs": [
    {
     "data": {
      "image/png": "[encoded data removed]",
      "text/plain": [
       "<Figure size 432x288 with 1 Axes>"
      ]
     },
     "metadata": {
      "needs_background": "light"
     },
     "output_type": "display_data"
    },
    {
     "data": {
      "image/png": "[encoded data removed]",
      "text/plain": [
       "<Figure size 432x288 with 1 Axes>"
      ]
     },
     "metadata": {
      "needs_background": "light"
     },
     "output_type": "display_data"
    }
   ],
   "source": [
    "# PLOT MODEL HISTORY OF ACCURACY AND LOSS OVER EPOCHS\n",
    "plt.plot(model_history2.history['accuracy'])\n",
    "plt.plot(model_history2.history['val_accuracy'])\n",
    "plt.title('Model Accuracy')\n",
    "plt.ylabel('Accuracy')\n",
    "plt.xlabel('Epoch')\n",
    "plt.legend(['Train', 'Test'], loc='upper left')\n",
    "plt.savefig('Initial_Model_Accuracy.png')\n",
    "plt.show()\n",
    "# summarize history for loss\n",
    "plt.plot(model_history2.history['loss'])\n",
    "plt.plot(model_history2.history['val_loss'])\n",
    "plt.title('Model Loss')\n",
    "plt.ylabel('Loss')\n",
    "plt.xlabel('Epoch')\n",
    "plt.legend(['train', 'test'], loc='upper left')\n",
    "plt.savefig('Initial_Model_loss.png')\n",
    "plt.show()"
   ]
  },
  {
   "cell_type": "markdown",
   "metadata": {},
   "source": [
    "## Post-Model Analysis"
   ]
  },
  {
   "cell_type": "code",
   "execution_count": 26,
   "metadata": {
    "scrolled": true
   },
   "outputs": [
    {
     "name": "stdout",
     "output_type": "stream",
     "text": [
      "10/10 [==============================] - 1s 64ms/step - loss: 1.3587 - accuracy: 0.5865 - precision: 0.6287 - recall: 0.5481\n",
      "Loss of the model is -  1.3587173223495483\n",
      "10/10 [==============================] - 1s 63ms/step - loss: 1.3587 - accuracy: 0.5865 - precision: 0.6287 - recall: 0.5481\n",
      "Accuracy of the model is -  58.65384340286255 %\n"
     ]
    }
   ],
   "source": [
    "# PRINT LOSS AND ACCURACY PERCENTAGE ON TEST SET\n",
    "print(\"Loss of the model is - \" , model.evaluate(X_test,y_test)[0])\n",
    "print(\"Accuracy of the model is - \" , model.evaluate(X_test,y_test)[1]*100 , \"%\")"
   ]
  },
  {
   "cell_type": "code",
   "execution_count": 46,
   "metadata": {},
   "outputs": [],
   "source": [
    "from sklearn.preprocessing import LabelBinarizer\n",
    "\n",
    "# PREDICTIONS\n",
    "predictions = model.predict(X_test)\n",
    "predictions=predictions.argmax(axis=1)\n",
    "predictions = predictions.astype(int).flatten()\n",
    "predictions = (lb.inverse_transform((predictions)))\n",
    "predictions = pd.DataFrame({'Predicted Values': predictions})\n",
    "\n",
    "# ACTUAL LABELS\n",
    "actual=y_test.argmax(axis=1)\n",
    "actual = actual.astype(int).flatten()\n",
    "actual = (lb.inverse_transform((actual)))\n",
    "actual = pd.DataFrame({'Actual Values': actual})\n",
    "\n",
    "# COMBINE BOTH \n",
    "finaldf = actual.join(predictions)\n",
    "#finaldf[130:150]"
   ]
  },
  {
   "cell_type": "code",
   "execution_count": 47,
   "metadata": {
    "scrolled": true
   },
   "outputs": [
    {
     "data": {
      "image/png": "[encoded data removed]",
      "text/plain": [
       "<Figure size 864x720 with 2 Axes>"
      ]
     },
     "metadata": {
      "needs_background": "light"
     },
     "output_type": "display_data"
    }
   ],
   "source": [
    "# CREATE CONFUSION MATRIX OF ACTUAL VS. PREDICTION \n",
    "cm = confusion_matrix(actual, predictions)\n",
    "plt.figure(figsize = (12, 10))\n",
    "cm = pd.DataFrame(cm , index = [i for i in lb.classes_] , columns = [i for i in lb.classes_])\n",
    "ax = sns.heatmap(cm, linecolor='white', cmap='Blues', linewidth=1, annot=True, fmt='')\n",
    "bottom, top = ax.get_ylim()\n",
    "ax.set_ylim(bottom + 0.5, top - 0.5)\n",
    "plt.title('Confusion Matrix', size=20)\n",
    "plt.xlabel('Predicted Labels', size=14)\n",
    "plt.ylabel('Actual Labels', size=14)\n",
    "plt.savefig('Initial_Model_Confusion_Matrix.png')\n",
    "plt.show()"
   ]
  },
  {
   "cell_type": "code",
   "execution_count": null,
   "metadata": {},
   "outputs": [],
   "source": [
    "print(classification_report(actual, predictions, target_names = ['angry','calm','disgust','fear','happy','neutral','sad']))"
   ]
  },
  {
   "cell_type": "markdown",
   "metadata": {},
   "source": [
    "## Hyperparameter Tuning"
   ]
  },
  {
   "cell_type": "code",
   "execution_count": null,
   "metadata": {},
   "outputs": [],
   "source": [
    "# TRAIN TEST SPLIT DATA\n",
    "train,test = train_test_split(df_combined, test_size=0.2, random_state=0,\n",
    "                               stratify=df_combined[['gender','actor']])"
   ]
  },
  {
   "cell_type": "code",
   "execution_count": null,
   "metadata": {},
   "outputs": [],
   "source": [
    "y_train.shape"
   ]
  },
  {
   "cell_type": "code",
   "execution_count": null,
   "metadata": {},
   "outputs": [],
   "source": [
    "X_train.shape "
   ]
  },
  {
   "cell_type": "code",
   "execution_count": null,
   "metadata": {},
   "outputs": [],
   "source": [
    "from tensorflow.keras.utils import to_categorical\n",
    "lb = LabelEncoder()\n",
    "\n",
    "y_train = to_categorical(lb.fit_transform(y_train))\n",
    "y_test = to_categorical(lb.fit_transform(y_test))"
   ]
  },
  {
   "cell_type": "code",
   "execution_count": 33,
   "metadata": {},
   "outputs": [],
   "source": [
    "\n",
    "# CREATE FUNCTION FOR KERAS CLASSIFIER\n",
    "opt = keras.optimizers.Adam(lr=0.0001)\n",
    "def make_classifier(optimizer=opt):\n",
    "    \n",
    "    output_shape = y_train.shape[1]\n",
    "    es = callbacks.EarlyStopping(patience=30, restore_best_weights=True)\n",
    "\n",
    "    #BUILD CNN MODEL\n",
    "    model = Sequential()\n",
    "    model.add(layers.Conv2D(32, kernel_size=(4,10), activation='relu', input_shape=X_train[1].shape,padding=\"same\"))\n",
    "    model.add(layers.BatchNormalization())\n",
    "    model.add(layers.MaxPooling2D())\n",
    "    model.add(layers.Dropout(0.2)) # 1st\n",
    "\n",
    "    model.add(layers.Conv2D(32, kernel_size=(4,10), activation='relu'))\n",
    "    model.add(layers.BatchNormalization())\n",
    "    model.add(layers.MaxPooling2D())\n",
    "    model.add(layers.Dropout(0.2)) # 2nd\n",
    "\n",
    "    model.add(layers.Conv2D(32, kernel_size=(4,10), activation='relu'))\n",
    "    model.add(layers.BatchNormalization())\n",
    "    model.add(layers.MaxPooling2D())\n",
    "    model.add(layers.Dropout(0.2)) # 3rd \n",
    "\n",
    "    model.add(layers.Conv2D(32, kernel_size=(4,10)))\n",
    "    model.add(layers.BatchNormalization())\n",
    "    model.add(layers.Activation('relu'))\n",
    "    model.add(layers.MaxPooling2D())\n",
    "    model.add(layers.Dropout(0.2)) # 4rd \n",
    "\n",
    "\n",
    "    model.add(layers.Flatten())\n",
    "    model.add(layers.Dense(64))\n",
    "    model.add(layers.Dropout(0.2))\n",
    "    model.add(layers.BatchNormalization())\n",
    "    model.add(layers.Activation('relu'))\n",
    "    model.add(layers.Flatten())\n",
    "    model.add(layers.Dropout(0.2))\n",
    "\n",
    "    model.add(layers.Dense(output_shape, activation='softmax'))\n",
    "    model.compile(loss='categorical_crossentropy', optimizer=opt,metrics=['accuracy','Precision', 'Recall'])\n",
    "    return model\n"
   ]
  },
  {
   "cell_type": "code",
   "execution_count": 34,
   "metadata": {},
   "outputs": [
    {
     "name": "stdout",
     "output_type": "stream",
     "text": [
      "25/25 [==============================] - 8s 304ms/step - loss: 2.1847 - accuracy: 0.1738 - precision: 0.2409 - recall: 0.0441\n",
      "25/25 [==============================] - 8s 303ms/step - loss: 2.3588 - accuracy: 0.1482 - precision: 0.1519 - recall: 0.0320\n",
      "25/25 [==============================] - 8s 304ms/step - loss: 2.2467 - accuracy: 0.1829 - precision: 0.1973 - recall: 0.0387\n",
      "25/25 [==============================] - 8s 302ms/step - loss: 2.1460 - accuracy: 0.2056 - precision: 0.2336 - recall: 0.0427\n",
      "25/25 [==============================] - 9s 304ms/step - loss: 2.2942 - accuracy: 0.1442 - precision: 0.1339 - recall: 0.0200\n",
      "25/25 [==============================] - 8s 303ms/step - loss: 2.2339 - accuracy: 0.1604 - precision: 0.1707 - recall: 0.0374\n",
      "25/25 [==============================] - 9s 308ms/step - loss: 2.1829 - accuracy: 0.1816 - precision: 0.2653 - recall: 0.0521\n",
      "25/25 [==============================] - 9s 307ms/step - loss: 2.0873 - accuracy: 0.2083 - precision: 0.2193 - recall: 0.0334\n",
      "25/25 [==============================] - 9s 318ms/step - loss: 2.0526 - accuracy: 0.2176 - precision: 0.3427 - recall: 0.0654\n",
      "25/25 [==============================] - 9s 306ms/step - loss: 2.1299 - accuracy: 0.2390 - precision: 0.2753 - recall: 0.0654\n",
      "25/25 [==============================] - 9s 309ms/step - loss: 2.1300 - accuracy: 0.1791 - precision: 0.2696 - recall: 0.0414\n",
      "25/25 [==============================] - 9s 308ms/step - loss: 2.1402 - accuracy: 0.2109 - precision: 0.2986 - recall: 0.0574\n",
      "25/25 [==============================] - 9s 316ms/step - loss: 2.1623 - accuracy: 0.2003 - precision: 0.2890 - recall: 0.0668\n",
      "25/25 [==============================] - 9s 308ms/step - loss: 2.0603 - accuracy: 0.2256 - precision: 0.4074 - recall: 0.0881\n",
      "25/25 [==============================] - 9s 311ms/step - loss: 2.2228 - accuracy: 0.1789 - precision: 0.2150 - recall: 0.0307\n",
      "25/25 [==============================] - 9s 307ms/step - loss: 2.0137 - accuracy: 0.2072 - precision: 0.2549 - recall: 0.0348\n",
      "25/25 [==============================] - 9s 307ms/step - loss: 2.0502 - accuracy: 0.2390 - precision: 0.3571 - recall: 0.0601\n",
      "25/25 [==============================] - 9s 314ms/step - loss: 2.0221 - accuracy: 0.2190 - precision: 0.3538 - recall: 0.0614\n",
      "25/25 [==============================] - 9s 313ms/step - loss: 2.1130 - accuracy: 0.1963 - precision: 0.2733 - recall: 0.0587\n",
      "25/25 [==============================] - 9s 328ms/step - loss: 2.1647 - accuracy: 0.1869 - precision: 0.2290 - recall: 0.0401\n",
      "25/25 [==============================] - 9s 313ms/step - loss: 2.1814 - accuracy: 0.2447 - precision: 0.4000 - recall: 0.0963\n",
      "25/25 [==============================] - 9s 317ms/step - loss: 2.0520 - accuracy: 0.2190 - precision: 0.2766 - recall: 0.0521\n",
      "25/25 [==============================] - 9s 318ms/step - loss: 2.0628 - accuracy: 0.2363 - precision: 0.3916 - recall: 0.0868\n",
      "25/25 [==============================] - 9s 317ms/step - loss: 2.1003 - accuracy: 0.2069 - precision: 0.2836 - recall: 0.0507\n",
      "25/25 [==============================] - 9s 314ms/step - loss: 2.0801 - accuracy: 0.1909 - precision: 0.2773 - recall: 0.0441\n",
      "25/25 [==============================] - 9s 325ms/step - loss: 2.1089 - accuracy: 0.1979 - precision: 0.2745 - recall: 0.0374\n",
      "25/25 [==============================] - 9s 320ms/step - loss: 2.0398 - accuracy: 0.1936 - precision: 0.2900 - recall: 0.0387\n",
      "25/25 [==============================] - 9s 313ms/step - loss: 2.1039 - accuracy: 0.1856 - precision: 0.3067 - recall: 0.0668\n",
      "25/25 [==============================] - 9s 315ms/step - loss: 2.0762 - accuracy: 0.2056 - precision: 0.2165 - recall: 0.0280\n",
      "25/25 [==============================] - 9s 316ms/step - loss: 2.0410 - accuracy: 0.2283 - precision: 0.2966 - recall: 0.0467\n",
      "24/24 [==============================] - 9s 331ms/step - loss: 2.1031 - accuracy: 0.1898 - precision: 0.1587 - recall: 0.0267\n",
      "24/24 [==============================] - 9s 332ms/step - loss: 2.1253 - accuracy: 0.2043 - precision: 0.2270 - recall: 0.0494\n",
      "24/24 [==============================] - 9s 324ms/step - loss: 2.0335 - accuracy: 0.2443 - precision: 0.3522 - recall: 0.0748\n",
      "24/24 [==============================] - 9s 324ms/step - loss: 2.0796 - accuracy: 0.2056 - precision: 0.2818 - recall: 0.0414\n",
      "24/24 [==============================] - 9s 325ms/step - loss: 2.1354 - accuracy: 0.1762 - precision: 0.3120 - recall: 0.0521\n",
      "24/24 [==============================] - 9s 323ms/step - loss: 2.0698 - accuracy: 0.2045 - precision: 0.3125 - recall: 0.0602\n",
      "24/24 [==============================] - 9s 326ms/step - loss: 2.0573 - accuracy: 0.2083 - precision: 0.3448 - recall: 0.0668\n",
      "24/24 [==============================] - 8s 317ms/step - loss: 1.9575 - accuracy: 0.2710 - precision: 0.3871 - recall: 0.0801\n",
      "24/24 [==============================] - 9s 330ms/step - loss: 2.0500 - accuracy: 0.2457 - precision: 0.3187 - recall: 0.0681\n",
      "24/24 [==============================] - 9s 338ms/step - loss: 2.1009 - accuracy: 0.1949 - precision: 0.2846 - recall: 0.0494\n",
      "24/24 [==============================] - 9s 340ms/step - loss: 2.1410 - accuracy: 0.2259 - precision: 0.3586 - recall: 0.0695\n",
      "24/24 [==============================] - 9s 338ms/step - loss: 1.9514 - accuracy: 0.2270 - precision: 0.2931 - recall: 0.0454\n",
      "24/24 [==============================] - 9s 341ms/step - loss: 1.9343 - accuracy: 0.2630 - precision: 0.3860 - recall: 0.0881\n",
      "24/24 [==============================] - 10s 343ms/step - loss: 2.0618 - accuracy: 0.2176 - precision: 0.3622 - recall: 0.0614\n",
      "24/24 [==============================] - 9s 343ms/step - loss: 1.9620 - accuracy: 0.2230 - precision: 0.3163 - recall: 0.0414\n",
      "24/24 [==============================] - 9s 337ms/step - loss: 2.1168 - accuracy: 0.1858 - precision: 0.2391 - recall: 0.0441\n",
      "24/24 [==============================] - 9s 349ms/step - loss: 2.1604 - accuracy: 0.2203 - precision: 0.2525 - recall: 0.0681\n",
      "24/24 [==============================] - 9s 337ms/step - loss: 2.0453 - accuracy: 0.2363 - precision: 0.3224 - recall: 0.0654\n",
      "24/24 [==============================] - 9s 338ms/step - loss: 2.0300 - accuracy: 0.2323 - precision: 0.3778 - recall: 0.0681\n",
      "24/24 [==============================] - 9s 335ms/step - loss: 2.0634 - accuracy: 0.2083 - precision: 0.2296 - recall: 0.0414\n",
      "24/24 [==============================] - 9s 344ms/step - loss: 2.0572 - accuracy: 0.2206 - precision: 0.3821 - recall: 0.0628\n",
      "24/24 [==============================] - 9s 339ms/step - loss: 2.0742 - accuracy: 0.2083 - precision: 0.2830 - recall: 0.0401\n",
      "24/24 [==============================] - 9s 344ms/step - loss: 2.1536 - accuracy: 0.1736 - precision: 0.2478 - recall: 0.0374\n",
      "24/24 [==============================] - 9s 334ms/step - loss: 2.0176 - accuracy: 0.2270 - precision: 0.3016 - recall: 0.0507\n",
      "24/24 [==============================] - 9s 337ms/step - loss: 2.0118 - accuracy: 0.2390 - precision: 0.3765 - recall: 0.0814\n",
      "24/24 [==============================] - 9s 342ms/step - loss: 2.1006 - accuracy: 0.2005 - precision: 0.2661 - recall: 0.0388\n",
      "24/24 [==============================] - 9s 344ms/step - loss: 2.0720 - accuracy: 0.2296 - precision: 0.3413 - recall: 0.0574\n",
      "24/24 [==============================] - 9s 340ms/step - loss: 2.0503 - accuracy: 0.2390 - precision: 0.3631 - recall: 0.0761\n",
      "24/24 [==============================] - 9s 338ms/step - loss: 2.2249 - accuracy: 0.1856 - precision: 0.2238 - recall: 0.0427\n",
      "24/24 [==============================] - 9s 333ms/step - loss: 2.1755 - accuracy: 0.2043 - precision: 0.2575 - recall: 0.0574\n",
      "22/22 [==============================] - 8s 347ms/step - loss: 2.0593 - accuracy: 0.2139 - precision: 0.3017 - recall: 0.0468\n",
      "23/23 [==============================] - 9s 351ms/step - loss: 2.0024 - accuracy: 0.2270 - precision: 0.3219 - recall: 0.0628\n",
      "23/23 [==============================] - 9s 351ms/step - loss: 2.0052 - accuracy: 0.2150 - precision: 0.4352 - recall: 0.0628\n",
      "23/23 [==============================] - 9s 338ms/step - loss: 2.2459 - accuracy: 0.1802 - precision: 0.2273 - recall: 0.0467\n"
     ]
    },
    {
     "name": "stdout",
     "output_type": "stream",
     "text": [
      "23/23 [==============================] - 9s 350ms/step - loss: 2.1500 - accuracy: 0.2096 - precision: 0.2708 - recall: 0.0521\n",
      "22/22 [==============================] - 9s 361ms/step - loss: 2.0110 - accuracy: 0.2259 - precision: 0.3071 - recall: 0.0521\n",
      "23/23 [==============================] - 9s 342ms/step - loss: 1.9628 - accuracy: 0.2377 - precision: 0.3607 - recall: 0.0587\n",
      "23/23 [==============================] - 9s 341ms/step - loss: 2.0663 - accuracy: 0.2096 - precision: 0.3097 - recall: 0.0467\n",
      "23/23 [==============================] - 9s 341ms/step - loss: 2.0965 - accuracy: 0.2323 - precision: 0.3662 - recall: 0.0694\n",
      "23/23 [==============================] - 9s 336ms/step - loss: 2.0153 - accuracy: 0.2230 - precision: 0.2993 - recall: 0.0587\n",
      "22/22 [==============================] - 9s 360ms/step - loss: 1.9662 - accuracy: 0.2353 - precision: 0.3178 - recall: 0.0548\n",
      "23/23 [==============================] - 9s 342ms/step - loss: 2.0695 - accuracy: 0.2016 - precision: 0.2672 - recall: 0.0467\n",
      "23/23 [==============================] - 9s 341ms/step - loss: 2.0302 - accuracy: 0.2216 - precision: 0.3767 - recall: 0.0734\n",
      "23/23 [==============================] - 9s 340ms/step - loss: 2.1172 - accuracy: 0.1989 - precision: 0.3145 - recall: 0.0521\n",
      "23/23 [==============================] - 9s 342ms/step - loss: 2.1373 - accuracy: 0.2296 - precision: 0.2994 - recall: 0.0708\n",
      "22/22 [==============================] - 9s 357ms/step - loss: 2.0950 - accuracy: 0.1912 - precision: 0.2815 - recall: 0.0508\n",
      "23/23 [==============================] - 9s 345ms/step - loss: 2.0404 - accuracy: 0.2203 - precision: 0.2835 - recall: 0.0481\n",
      "23/23 [==============================] - 9s 350ms/step - loss: 1.9986 - accuracy: 0.2510 - precision: 0.4122 - recall: 0.0721\n",
      "23/23 [==============================] - 9s 344ms/step - loss: 2.0885 - accuracy: 0.2163 - precision: 0.2569 - recall: 0.0494\n",
      "23/23 [==============================] - 9s 342ms/step - loss: 2.1232 - accuracy: 0.2096 - precision: 0.3088 - recall: 0.0561\n",
      "22/22 [==============================] - 8s 350ms/step - loss: 2.1390 - accuracy: 0.1992 - precision: 0.2530 - recall: 0.0561\n",
      "23/23 [==============================] - 9s 350ms/step - loss: 2.0763 - accuracy: 0.2003 - precision: 0.2464 - recall: 0.0454\n",
      "23/23 [==============================] - 9s 355ms/step - loss: 2.0950 - accuracy: 0.2176 - precision: 0.2455 - recall: 0.0547\n",
      "23/23 [==============================] - 9s 342ms/step - loss: 2.1858 - accuracy: 0.2083 - precision: 0.2579 - recall: 0.0547\n",
      "23/23 [==============================] - 9s 345ms/step - loss: 1.9661 - accuracy: 0.2630 - precision: 0.3558 - recall: 0.0774\n",
      "22/22 [==============================] - 8s 347ms/step - loss: 1.9963 - accuracy: 0.2286 - precision: 0.3333 - recall: 0.0535\n",
      "23/23 [==============================] - 9s 341ms/step - loss: 2.0269 - accuracy: 0.2083 - precision: 0.3279 - recall: 0.0534\n",
      "23/23 [==============================] - 9s 345ms/step - loss: 2.0061 - accuracy: 0.2390 - precision: 0.3766 - recall: 0.0774\n",
      "23/23 [==============================] - 9s 345ms/step - loss: 2.1241 - accuracy: 0.1789 - precision: 0.2947 - recall: 0.0374\n",
      "23/23 [==============================] - 9s 341ms/step - loss: 2.2026 - accuracy: 0.1896 - precision: 0.2791 - recall: 0.0481\n",
      "32/32 [==============================] - 11s 311ms/step - loss: 2.0351 - accuracy: 0.2447 - precision: 0.3526 - recall: 0.0588\n"
     ]
    }
   ],
   "source": [
    "# GRID SEARCH PARAMETERS TO FIND BEST VALUES\n",
    "classifier = KerasClassifier(build_fn = make_classifier)\n",
    "params = {\n",
    "    'batch_size': [30, 32, 34],\n",
    "    'nb_epoch': [20, 75, 20],\n",
    "    'optimizer':['adam','SGD']}\n",
    "\n",
    "grid_search = GridSearchCV(estimator=classifier,\n",
    "                           param_grid=params,\n",
    "                           scoring='accuracy',\n",
    "                           cv=5)\n",
    "\n",
    "grid_search = grid_search.fit(X_train,y_train)"
   ]
  },
  {
   "cell_type": "code",
   "execution_count": 36,
   "metadata": {},
   "outputs": [
    {
     "data": {
      "text/plain": [
       "{'batch_size': 30, 'nb_epoch': 20, 'optimizer': 'adam'}"
      ]
     },
     "execution_count": 36,
     "metadata": {},
     "output_type": "execute_result"
    }
   ],
   "source": [
    "grid_search.best_params_"
   ]
  },
  {
   "cell_type": "code",
   "execution_count": 37,
   "metadata": {},
   "outputs": [
    {
     "data": {
      "text/plain": [
       "nan"
      ]
     },
     "execution_count": 37,
     "metadata": {},
     "output_type": "execute_result"
    }
   ],
   "source": [
    "grid_search.best_score_"
   ]
  },
  {
   "cell_type": "code",
   "execution_count": null,
   "metadata": {},
   "outputs": [],
   "source": []
  },
  {
   "cell_type": "code",
   "execution_count": null,
   "metadata": {},
   "outputs": [],
   "source": [
    "# !pyenv virtualenvs"
   ]
  },
  {
   "cell_type": "markdown",
   "metadata": {},
   "source": [
    "# Record voice from Mic"
   ]
  },
  {
   "cell_type": "code",
   "execution_count": null,
   "metadata": {},
   "outputs": [],
   "source": [
    "# !pip install sounddevice "
   ]
  },
  {
   "cell_type": "code",
   "execution_count": null,
   "metadata": {},
   "outputs": [],
   "source": [
    "from scipy.io.wavfile import write\n",
    "import sounddevice as sd"
   ]
  },
  {
   "cell_type": "code",
   "execution_count": null,
   "metadata": {},
   "outputs": [],
   "source": [
    "sd.query_devices()"
   ]
  },
  {
   "cell_type": "code",
   "execution_count": null,
   "metadata": {},
   "outputs": [],
   "source": [
    "\n",
    "from scipy.io.wavfile import write\n",
    "import sounddevice as sd\n",
    "sd.query_devices(4,'input')\n",
    "fs = 44100  # Sample rate\n",
    "seconds = 3  # Duration of recording\n",
    "\n",
    "myrecording = sd.rec(int(seconds * fs), samplerate=fs, channels=1)\n",
    "sd.wait()  # Wait until recording is finished\n",
    "\n"
   ]
  },
  {
   "cell_type": "code",
   "execution_count": null,
   "metadata": {},
   "outputs": [],
   "source": [
    "write('pankajoutput.wav', fs, myrecording)  # Save as WAV file "
   ]
  },
  {
   "cell_type": "code",
   "execution_count": null,
   "metadata": {},
   "outputs": [],
   "source": [
    "!ls\n"
   ]
  },
  {
   "cell_type": "code",
   "execution_count": null,
   "metadata": {},
   "outputs": [],
   "source": []
  }
 ],
 "metadata": {
  "kernelspec": {
   "display_name": "Python 3 (ipykernel)",
   "language": "python",
   "name": "python3"
  },
  "language_info": {
   "codemirror_mode": {
    "name": "ipython",
    "version": 3
   },
   "file_extension": ".py",
   "mimetype": "text/x-python",
   "name": "python",
   "nbconvert_exporter": "python",
   "pygments_lexer": "ipython3",
   "version": "3.8.6"
  },
  "toc": {
   "base_numbering": 1,
   "nav_menu": {},
   "number_sections": true,
   "sideBar": true,
   "skip_h1_title": false,
   "title_cell": "Table of Contents",
   "title_sidebar": "Contents",
   "toc_cell": false,
   "toc_position": {},
   "toc_section_display": true,
   "toc_window_display": false
  }
 },
 "nbformat": 4,
 "nbformat_minor": 2
}
