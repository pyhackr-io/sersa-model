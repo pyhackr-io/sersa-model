{
 "cells": [
  {
   "cell_type": "code",
   "execution_count": 11,
   "id": "19075650",
   "metadata": {},
   "outputs": [],
   "source": [
    "from fastapi import FastAPI, File, UploadFile\n",
    "from fastapi.middleware.cors import CORSMiddleware\n",
    "import requests\n",
    "import shutil\n",
    "import joblib\n",
    "import pandas as pd\n",
    "import numpy as np\n",
    "import librosa\n",
    "import soundfile\n",
    "\n",
    "#Load an audio file and transform it\n",
    "def x_pred_preprocessing(audio_path):\n",
    "    x_pred_preprocessed = extract_features(audio_path,\n",
    "                                           mfcc=True,\n",
    "                                           chroma=False,\n",
    "                                           mel=True,\n",
    "                                           temp=True)\n",
    "    x_pred_preprocessed = x_pred_preprocessed.reshape(1, 552)\n",
    "    return x_pred_preprocessed\n",
    "\n",
    "\n",
    "#Predict the emotion\n",
    "def return_predict(x_pred_preprocessed, model_path='../MLP_model.joblib'):\n",
    "    model = joblib.load(model_path)\n",
    "    prediction = model.predict(x_pred_preprocessed)\n",
    "    return prediction[0]\n",
    "\n",
    "\n",
    "#Return a dataframe giving the predicted probabilities for each emotion in observed_emotions\n",
    "def predict_proba(observed_emotions, x_pred_preprocessed, model_path='../MLP_model.joblib'):\n",
    "    model = joblib.load(model_path)\n",
    "    emotion_list = observed_emotions\n",
    "    emotion_list.sort()\n",
    "    model_pred_prob = pd.DataFrame((model.predict_proba(x_pred_preprocessed) * 100).round(2),\n",
    "                                columns=emotion_list)\n",
    "    return model_pred_prob\n",
    "\n",
    "\n",
    "#Extract features (mfcc, chroma, mel, temp) from a sound file\n",
    "def extract_features(file_name, mfcc, chroma, mel, temp):\n",
    "    with soundfile.SoundFile(file_name) as sound_file:\n",
    "        X = sound_file.read(dtype=\"float32\")\n",
    "        sample_rate = sound_file.samplerate\n",
    "        if chroma:\n",
    "            stft = np.abs(librosa.stft(X))\n",
    "        result = np.array([])\n",
    "        if mfcc:\n",
    "            mfccs = np.mean(librosa.feature.mfcc(y=X,\n",
    "                                                 sr=sample_rate,\n",
    "                                                 n_mfcc=40).T,\n",
    "                            axis=0)\n",
    "            result = np.hstack((result, mfccs))\n",
    "        if chroma:\n",
    "            chroma = np.mean(librosa.feature.chroma_stft(S=stft,\n",
    "                                                         sr=sample_rate).T,\n",
    "                             axis=0)\n",
    "            result = np.hstack((result, chroma))\n",
    "        if mel:\n",
    "            mel = np.mean(librosa.feature.melspectrogram(X, sr=sample_rate).T,\n",
    "                          axis=0)\n",
    "            result = np.hstack((result, mel))\n",
    "        if temp:\n",
    "            temp = np.mean(librosa.feature.tempogram(y=X, sr=sample_rate).T,\n",
    "                           axis=0)\n",
    "            result = np.hstack((result, temp))\n",
    "    return result\n"
   ]
  },
  {
   "cell_type": "code",
   "execution_count": 12,
   "id": "bebc3d78",
   "metadata": {},
   "outputs": [],
   "source": [
    "filename='/Users/pankajpatel/code/pankaj-lewagon/ser/03-01-03-01-02-01-23.wav'"
   ]
  },
  {
   "cell_type": "code",
   "execution_count": 68,
   "id": "95543fbc",
   "metadata": {},
   "outputs": [
    {
     "name": "stderr",
     "output_type": "stream",
     "text": [
      "/Users/pankajpatel/.pyenv/versions/3.8.6/envs/ser_proj/lib/python3.8/site-packages/librosa/filters.py:238: UserWarning: Empty filters detected in mel frequency basis. Some channels will produce empty responses. Try increasing your sampling rate (and fmax) or reducing n_mels.\n",
      "  warnings.warn(\n"
     ]
    }
   ],
   "source": [
    "observed_emotions = ['calm', 'happy', 'sad', 'angry', 'fearful', 'disgust']\n",
    "\n",
    "x_pred_preprocessed = x_pred_preprocessing(filename)\n",
    "prediction = return_predict(x_pred_preprocessed)\n",
    "pedicted_probas =predict_proba(observed_emotions, x_pred_preprocessed)"
   ]
  },
  {
   "cell_type": "code",
   "execution_count": 66,
   "id": "f11ceeb9",
   "metadata": {},
   "outputs": [
    {
     "data": {
      "text/plain": [
       "'happy'"
      ]
     },
     "execution_count": 66,
     "metadata": {},
     "output_type": "execute_result"
    }
   ],
   "source": [
    "prediction"
   ]
  },
  {
   "cell_type": "code",
   "execution_count": 70,
   "id": "6b000c3f",
   "metadata": {},
   "outputs": [
    {
     "data": {
      "text/html": [
       "<div>\n",
       "<style scoped>\n",
       "    .dataframe tbody tr th:only-of-type {\n",
       "        vertical-align: middle;\n",
       "    }\n",
       "\n",
       "    .dataframe tbody tr th {\n",
       "        vertical-align: top;\n",
       "    }\n",
       "\n",
       "    .dataframe thead th {\n",
       "        text-align: right;\n",
       "    }\n",
       "</style>\n",
       "<table border=\"1\" class=\"dataframe\">\n",
       "  <thead>\n",
       "    <tr style=\"text-align: right;\">\n",
       "      <th></th>\n",
       "      <th>0</th>\n",
       "    </tr>\n",
       "  </thead>\n",
       "  <tbody>\n",
       "    <tr>\n",
       "      <th>angry</th>\n",
       "      <td>0.10</td>\n",
       "    </tr>\n",
       "    <tr>\n",
       "      <th>calm</th>\n",
       "      <td>0.06</td>\n",
       "    </tr>\n",
       "    <tr>\n",
       "      <th>disgust</th>\n",
       "      <td>0.01</td>\n",
       "    </tr>\n",
       "    <tr>\n",
       "      <th>fearful</th>\n",
       "      <td>2.19</td>\n",
       "    </tr>\n",
       "    <tr>\n",
       "      <th>happy</th>\n",
       "      <td>96.58</td>\n",
       "    </tr>\n",
       "    <tr>\n",
       "      <th>sad</th>\n",
       "      <td>1.06</td>\n",
       "    </tr>\n",
       "  </tbody>\n",
       "</table>\n",
       "</div>"
      ],
      "text/plain": [
       "             0\n",
       "angry     0.10\n",
       "calm      0.06\n",
       "disgust   0.01\n",
       "fearful   2.19\n",
       "happy    96.58\n",
       "sad       1.06"
      ]
     },
     "execution_count": 70,
     "metadata": {},
     "output_type": "execute_result"
    }
   ],
   "source": [
    "pedicted_probas.T\n"
   ]
  },
  {
   "cell_type": "code",
   "execution_count": null,
   "id": "a7945e28",
   "metadata": {},
   "outputs": [],
   "source": []
  },
  {
   "cell_type": "code",
   "execution_count": null,
   "id": "52ba06da",
   "metadata": {},
   "outputs": [],
   "source": []
  },
  {
   "cell_type": "code",
   "execution_count": 56,
   "id": "f7516999",
   "metadata": {},
   "outputs": [],
   "source": [
    "predicted_probas =predict_proba(observed_emotions, x_pred_preprocessed).T\n",
    "predicted_probas.rename(columns={0 : \"probability\"}, inplace=True)\n",
    "probas=pd.DataFrame.to_dict(predicted_probas)\n",
    "probas['emotion']={0:prediction}"
   ]
  },
  {
   "cell_type": "code",
   "execution_count": 57,
   "id": "70dd0309",
   "metadata": {},
   "outputs": [
    {
     "data": {
      "text/plain": [
       "{'probability': {'angry': 0.1,\n",
       "  'calm': 0.06,\n",
       "  'disgust': 0.01,\n",
       "  'fearful': 2.19,\n",
       "  'happy': 96.58,\n",
       "  'sad': 1.06},\n",
       " 'emotion': {0: 'happy'}}"
      ]
     },
     "execution_count": 57,
     "metadata": {},
     "output_type": "execute_result"
    }
   ],
   "source": [
    "probas"
   ]
  },
  {
   "cell_type": "code",
   "execution_count": null,
   "id": "1b68073b",
   "metadata": {},
   "outputs": [],
   "source": []
  },
  {
   "cell_type": "code",
   "execution_count": null,
   "id": "e10aa3d9",
   "metadata": {},
   "outputs": [],
   "source": []
  },
  {
   "cell_type": "code",
   "execution_count": null,
   "id": "04715336",
   "metadata": {},
   "outputs": [],
   "source": []
  },
  {
   "cell_type": "code",
   "execution_count": null,
   "id": "739a96ff",
   "metadata": {},
   "outputs": [],
   "source": []
  },
  {
   "cell_type": "code",
   "execution_count": 28,
   "id": "971e58f0",
   "metadata": {},
   "outputs": [],
   "source": [
    "predicted_probas =predict_proba(observed_emotions, x_pred_preprocessed).T\n"
   ]
  },
  {
   "cell_type": "code",
   "execution_count": 41,
   "id": "91356929",
   "metadata": {},
   "outputs": [
    {
     "data": {
      "text/html": [
       "<div>\n",
       "<style scoped>\n",
       "    .dataframe tbody tr th:only-of-type {\n",
       "        vertical-align: middle;\n",
       "    }\n",
       "\n",
       "    .dataframe tbody tr th {\n",
       "        vertical-align: top;\n",
       "    }\n",
       "\n",
       "    .dataframe thead th {\n",
       "        text-align: right;\n",
       "    }\n",
       "</style>\n",
       "<table border=\"1\" class=\"dataframe\">\n",
       "  <thead>\n",
       "    <tr style=\"text-align: right;\">\n",
       "      <th></th>\n",
       "      <th>probability</th>\n",
       "    </tr>\n",
       "  </thead>\n",
       "  <tbody>\n",
       "    <tr>\n",
       "      <th>angry</th>\n",
       "      <td>0.10</td>\n",
       "    </tr>\n",
       "    <tr>\n",
       "      <th>calm</th>\n",
       "      <td>0.06</td>\n",
       "    </tr>\n",
       "    <tr>\n",
       "      <th>disgust</th>\n",
       "      <td>0.01</td>\n",
       "    </tr>\n",
       "    <tr>\n",
       "      <th>fearful</th>\n",
       "      <td>2.19</td>\n",
       "    </tr>\n",
       "    <tr>\n",
       "      <th>happy</th>\n",
       "      <td>96.58</td>\n",
       "    </tr>\n",
       "    <tr>\n",
       "      <th>sad</th>\n",
       "      <td>1.06</td>\n",
       "    </tr>\n",
       "  </tbody>\n",
       "</table>\n",
       "</div>"
      ],
      "text/plain": [
       "         probability\n",
       "angry           0.10\n",
       "calm            0.06\n",
       "disgust         0.01\n",
       "fearful         2.19\n",
       "happy          96.58\n",
       "sad             1.06"
      ]
     },
     "execution_count": 41,
     "metadata": {},
     "output_type": "execute_result"
    }
   ],
   "source": [
    "predicted_probas.rename(columns={0 : \"probability\"}, inplace=True)\n",
    "\n",
    "predicted_probas"
   ]
  },
  {
   "cell_type": "code",
   "execution_count": 48,
   "id": "f6ce7da6",
   "metadata": {},
   "outputs": [],
   "source": [
    "probas=pd.DataFrame.to_dict(predicted_probas)"
   ]
  },
  {
   "cell_type": "code",
   "execution_count": 49,
   "id": "4a604645",
   "metadata": {},
   "outputs": [
    {
     "data": {
      "text/plain": [
       "{'probability': {'angry': 0.1,\n",
       "  'calm': 0.06,\n",
       "  'disgust': 0.01,\n",
       "  'fearful': 2.19,\n",
       "  'happy': 96.58,\n",
       "  'sad': 1.06}}"
      ]
     },
     "execution_count": 49,
     "metadata": {},
     "output_type": "execute_result"
    }
   ],
   "source": [
    "probas"
   ]
  },
  {
   "cell_type": "code",
   "execution_count": 52,
   "id": "c2bebec6",
   "metadata": {},
   "outputs": [],
   "source": [
    "\n",
    "xx['emotion']"
   ]
  },
  {
   "cell_type": "code",
   "execution_count": 53,
   "id": "015e056e",
   "metadata": {},
   "outputs": [
    {
     "data": {
      "text/plain": [
       "{'probability': {'angry': 0.1,\n",
       "  'calm': 0.06,\n",
       "  'disgust': 0.01,\n",
       "  'fearful': 2.19,\n",
       "  'happy': 96.58,\n",
       "  'sad': 1.06},\n",
       " 'emotion': ['happy']}"
      ]
     },
     "execution_count": 53,
     "metadata": {},
     "output_type": "execute_result"
    }
   ],
   "source": [
    "probas"
   ]
  },
  {
   "cell_type": "code",
   "execution_count": null,
   "id": "acbc3dc2",
   "metadata": {},
   "outputs": [],
   "source": [
    "\n"
   ]
  },
  {
   "cell_type": "code",
   "execution_count": null,
   "id": "670be731",
   "metadata": {},
   "outputs": [],
   "source": []
  },
  {
   "cell_type": "code",
   "execution_count": null,
   "id": "c3ffc61c",
   "metadata": {},
   "outputs": [],
   "source": []
  }
 ],
 "metadata": {
  "kernelspec": {
   "display_name": "Python 3 (ipykernel)",
   "language": "python",
   "name": "python3"
  },
  "language_info": {
   "codemirror_mode": {
    "name": "ipython",
    "version": 3
   },
   "file_extension": ".py",
   "mimetype": "text/x-python",
   "name": "python",
   "nbconvert_exporter": "python",
   "pygments_lexer": "ipython3",
   "version": "3.8.6"
  },
  "toc": {
   "base_numbering": 1,
   "nav_menu": {},
   "number_sections": true,
   "sideBar": true,
   "skip_h1_title": false,
   "title_cell": "Table of Contents",
   "title_sidebar": "Contents",
   "toc_cell": false,
   "toc_position": {},
   "toc_section_display": true,
   "toc_window_display": false
  }
 },
 "nbformat": 4,
 "nbformat_minor": 5
}
