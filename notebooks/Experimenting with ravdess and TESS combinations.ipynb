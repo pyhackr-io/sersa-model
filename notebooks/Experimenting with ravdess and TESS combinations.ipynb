{
 "cells": [
  {
   "cell_type": "code",
   "execution_count": 2,
   "id": "5f672af0",
   "metadata": {},
   "outputs": [],
   "source": [
    "import ser\n",
    "from ser.data import load_data, load_data_TESS\n",
    "from ser.trainer import Trainer"
   ]
  },
  {
   "cell_type": "code",
   "execution_count": 11,
   "id": "32e14b7e",
   "metadata": {},
   "outputs": [],
   "source": [
    "observed_emotions=['calm', 'happy', 'sad', 'angry', 'fearful', 'disgust']"
   ]
  },
  {
   "cell_type": "code",
   "execution_count": 14,
   "id": "d70b6df5",
   "metadata": {},
   "outputs": [],
   "source": [
    "x_tess, y_tess = load_data_TESS()"
   ]
  },
  {
   "cell_type": "code",
   "execution_count": 15,
   "id": "10cb44d4",
   "metadata": {},
   "outputs": [
    {
     "name": "stderr",
     "output_type": "stream",
     "text": [
      "/home/iases/.pyenv/versions/3.8.6/envs/ser_proj/lib/python3.8/site-packages/librosa/filters.py:238: UserWarning: Empty filters detected in mel frequency basis. Some channels will produce empty responses. Try increasing your sampling rate (and fmax) or reducing n_mels.\n",
      "  warnings.warn(\n"
     ]
    }
   ],
   "source": [
    "x_rav, y_rav = load_data(observed_emotions=observed_emotions)"
   ]
  },
  {
   "cell_type": "code",
   "execution_count": 16,
   "id": "71eb3c7d",
   "metadata": {},
   "outputs": [
    {
     "data": {
      "text/plain": [
       "1152"
      ]
     },
     "execution_count": 16,
     "metadata": {},
     "output_type": "execute_result"
    }
   ],
   "source": [
    "len(x_rav)"
   ]
  },
  {
   "cell_type": "code",
   "execution_count": 17,
   "id": "98c15486",
   "metadata": {},
   "outputs": [],
   "source": [
    "trainer = Trainer(x=x_rav, y=y_rav)\n",
    "trainer.base_model()\n",
    "trainer.run()"
   ]
  },
  {
   "cell_type": "code",
   "execution_count": 18,
   "id": "e6118850",
   "metadata": {},
   "outputs": [
    {
     "name": "stdout",
     "output_type": "stream",
     "text": [
      "baseline: 0.16666666666666666\n",
      "model's accuracy score: 0.334\n",
      "model's precision score: 0.24599647294584948\n"
     ]
    }
   ],
   "source": [
    "baseline, acc_score, prec_score = trainer.evaluate(x_tess, y_tess)\n",
    "print(f\"baseline: {baseline}\")\n",
    "print(f\"model's accuracy score: {acc_score}\")\n",
    "print(f\"model's precision score: {prec_score}\")"
   ]
  },
  {
   "cell_type": "code",
   "execution_count": 20,
   "id": "ef7512af",
   "metadata": {},
   "outputs": [
    {
     "name": "stdout",
     "output_type": "stream",
     "text": [
      "   angry  calm  disgust  fearful  happy   sad prediction actual\n",
      "0  94.26   0.0     0.00     5.74   0.00  0.00      angry  angry\n",
      "1  98.87   0.0     0.00     0.61   0.51  0.01      angry  angry\n",
      "2  99.98   0.0     0.00     0.00   0.02  0.00      angry  angry\n",
      "3  72.89   0.0     0.00    26.93   0.17  0.00      angry  angry\n",
      "4   9.00   0.0     0.01    90.97   0.00  0.02    fearful  angry\n",
      "              precision    recall  f1-score   support\n",
      "\n",
      "       angry       0.56      0.62      0.59       400\n",
      "        calm       0.00      0.00      0.00       400\n",
      "     disgust       0.36      0.26      0.30       400\n",
      "     fearful       0.18      0.66      0.28       200\n",
      "       happy       0.00      0.00      0.00       400\n",
      "         sad       0.38      0.92      0.54       200\n",
      "\n",
      "    accuracy                           0.33      2000\n",
      "   macro avg       0.25      0.41      0.28      2000\n",
      "weighted avg       0.24      0.33      0.26      2000\n",
      "\n"
     ]
    },
    {
     "data": {
      "image/png": "[encoded data removed]",
      "text/plain": [
       "<Figure size 864x720 with 2 Axes>"
      ]
     },
     "metadata": {
      "needs_background": "light"
     },
     "output_type": "display_data"
    }
   ],
   "source": [
    "print(trainer.predict_probs(x_tess, y_tess, observed_emotions).head())\n",
    "trainer.confidence_report(x_tess, y_tess, observed_emotions)\n",
    "trainer.confusion_matrix(x_tess, y_tess, observed_emotions)"
   ]
  },
  {
   "cell_type": "code",
   "execution_count": 28,
   "id": "566e78f4",
   "metadata": {},
   "outputs": [],
   "source": [
    "from sklearn.model_selection import train_test_split\n",
    "import numpy as np\n",
    "\n",
    "x_tess_train, x_tess_test, y_tess_train, y_tess_test = train_test_split(np.array(x_tess),\n",
    "                                                    y_tess,\n",
    "                                                    test_size=0.5,\n",
    "                                                    shuffle=True,\n",
    "                                                    random_state=9)"
   ]
  },
  {
   "cell_type": "code",
   "execution_count": 35,
   "id": "b6399e30",
   "metadata": {},
   "outputs": [],
   "source": [
    "x_train = np.concatenate((x_rav, x_tess_train))\n",
    "y_train = np.concatenate((y_rav, y_tess_train))"
   ]
  },
  {
   "cell_type": "code",
   "execution_count": 36,
   "id": "1a3a8ca3",
   "metadata": {},
   "outputs": [
    {
     "data": {
      "text/plain": [
       "(2152,)"
      ]
     },
     "execution_count": 36,
     "metadata": {},
     "output_type": "execute_result"
    }
   ],
   "source": [
    "y_train.shape"
   ]
  },
  {
   "cell_type": "code",
   "execution_count": 37,
   "id": "0b344eaa",
   "metadata": {},
   "outputs": [],
   "source": [
    "trainer = Trainer(x=x_train, y=y_train)\n",
    "trainer.base_model()\n",
    "trainer.run()"
   ]
  },
  {
   "cell_type": "code",
   "execution_count": 38,
   "id": "e76b34d6",
   "metadata": {},
   "outputs": [
    {
     "name": "stdout",
     "output_type": "stream",
     "text": [
      "baseline: 0.18401486988847585\n",
      "model's accuracy score: 0.996\n",
      "model's precision score: 0.9957170511007144\n"
     ]
    }
   ],
   "source": [
    "baseline, acc_score, prec_score = trainer.evaluate(x_tess_test, y_tess_test)\n",
    "print(f\"baseline: {baseline}\")\n",
    "print(f\"model's accuracy score: {acc_score}\")\n",
    "print(f\"model's precision score: {prec_score}\")"
   ]
  }
 ],
 "metadata": {
  "kernelspec": {
   "display_name": "Python 3 (ipykernel)",
   "language": "python",
   "name": "python3"
  },
  "language_info": {
   "codemirror_mode": {
    "name": "ipython",
    "version": 3
   },
   "file_extension": ".py",
   "mimetype": "text/x-python",
   "name": "python",
   "nbconvert_exporter": "python",
   "pygments_lexer": "ipython3",
   "version": "3.8.6"
  },
  "toc": {
   "base_numbering": 1,
   "nav_menu": {},
   "number_sections": true,
   "sideBar": true,
   "skip_h1_title": false,
   "title_cell": "Table of Contents",
   "title_sidebar": "Contents",
   "toc_cell": false,
   "toc_position": {},
   "toc_section_display": true,
   "toc_window_display": false
  }
 },
 "nbformat": 4,
 "nbformat_minor": 5
}
